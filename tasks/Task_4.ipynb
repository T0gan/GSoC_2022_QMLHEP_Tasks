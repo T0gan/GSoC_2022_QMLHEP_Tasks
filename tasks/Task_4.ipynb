{
  "cells": [
    {
      "cell_type": "code",
      "source": [
        "# Mount drive\n",
        "from google.colab import drive\n",
        "drive.mount('/content/drive/')"
      ],
      "metadata": {
        "colab": {
          "base_uri": "https://localhost:8080/"
        },
        "id": "1bzQ9_AH9qLO",
        "outputId": "9f133553-5935-41db-e8f0-246e0e8c0826"
      },
      "id": "1bzQ9_AH9qLO",
      "execution_count": null,
      "outputs": [
        {
          "output_type": "stream",
          "name": "stdout",
          "text": [
            "Drive already mounted at /content/drive/; to attempt to forcibly remount, call drive.mount(\"/content/drive/\", force_remount=True).\n"
          ]
        }
      ]
    },
    {
      "cell_type": "code",
      "source": [
        "# Download Deep Graph Library\n",
        "!pip install dgl"
      ],
      "metadata": {
        "colab": {
          "base_uri": "https://localhost:8080/"
        },
        "id": "O2t70u1yWrAb",
        "outputId": "b3371cc3-f2dc-44b9-d331-1d0b42935565"
      },
      "id": "O2t70u1yWrAb",
      "execution_count": null,
      "outputs": [
        {
          "output_type": "stream",
          "name": "stdout",
          "text": [
            "Requirement already satisfied: dgl in /usr/local/lib/python3.7/dist-packages (0.6.1)\n",
            "Requirement already satisfied: requests>=2.19.0 in /usr/local/lib/python3.7/dist-packages (from dgl) (2.23.0)\n",
            "Requirement already satisfied: scipy>=1.1.0 in /usr/local/lib/python3.7/dist-packages (from dgl) (1.4.1)\n",
            "Requirement already satisfied: networkx>=2.1 in /usr/local/lib/python3.7/dist-packages (from dgl) (2.6.3)\n",
            "Requirement already satisfied: numpy>=1.14.0 in /usr/local/lib/python3.7/dist-packages (from dgl) (1.21.5)\n",
            "Requirement already satisfied: chardet<4,>=3.0.2 in /usr/local/lib/python3.7/dist-packages (from requests>=2.19.0->dgl) (3.0.4)\n",
            "Requirement already satisfied: urllib3!=1.25.0,!=1.25.1,<1.26,>=1.21.1 in /usr/local/lib/python3.7/dist-packages (from requests>=2.19.0->dgl) (1.24.3)\n",
            "Requirement already satisfied: idna<3,>=2.5 in /usr/local/lib/python3.7/dist-packages (from requests>=2.19.0->dgl) (2.10)\n",
            "Requirement already satisfied: certifi>=2017.4.17 in /usr/local/lib/python3.7/dist-packages (from requests>=2.19.0->dgl) (2021.10.8)\n"
          ]
        }
      ]
    },
    {
      "cell_type": "markdown",
      "source": [
        "# Task IV: Classical Graph Neural Network (GNN) Part\n",
        "\n",
        "For Task IV, you will use ParticleNet’s data for Quark/Gluon jet classification available here with its corresponding description.\n"
      ],
      "metadata": {
        "id": "B56dkpSs-a__"
      },
      "id": "B56dkpSs-a__"
    },
    {
      "cell_type": "markdown",
      "source": [
        "\n",
        "### Choose 2 Graph-based architectures of your choice to classify jets as being quarks or gluons. Provide a description on what considerations you have taken to project this point-cloud dataset to a set of interconnected nodes and edges.\n",
        "\n",
        "1. Node classification: When we apply a shared function 'f' to each of the latent vectors h_{i}, it is possible to make predictions for each of the nodes, where we can classify nodes based on their features.\n",
        "\n",
        "2. Graph classification: for graph classification, we can predict certain attribute of the entire graph by aggregating all node features and applying an appropriate function 'f'."
      ],
      "metadata": {
        "id": "YSJw-vYu-kT8"
      },
      "id": "YSJw-vYu-kT8"
    },
    {
      "cell_type": "code",
      "source": [
        "import matplotlib.pyplot as plt\n",
        "import networkx as nx\n",
        "import numpy as np\n",
        "import sklearn\n",
        "import dgl\n",
        "from dgl.nn import GraphConv\n",
        "from dgl.dataloading import GraphDataLoader\n",
        "import torch\n",
        "from torch.utils.data.sampler import SubsetRandomSampler\n",
        "\n",
        "import fastai.basics\n",
        "from fastai.basics import *"
      ],
      "metadata": {
        "id": "b8Ms2IC1-ymg"
      },
      "id": "b8Ms2IC1-ymg",
      "execution_count": null,
      "outputs": []
    },
    {
      "cell_type": "code",
      "source": [
        "with np.load('/content/drive/MyDrive/Colab Notebooks/ML4SCI Tasks/Pythia8_data/QG_jets.npz') as data:\n",
        "  X = data['X']\n",
        "  y_train = data['y']\n",
        "\n",
        "x_train = []\n",
        "for i in X:\n",
        "  x_train.append(i[0])\n",
        "x_train = np.array(x_train)\n",
        "print(X.shape)\n",
        "print(x_train.shape)\n",
        "print(y_train.shape)"
      ],
      "metadata": {
        "colab": {
          "base_uri": "https://localhost:8080/"
        },
        "id": "vN8w_6V1-ype",
        "outputId": "45e2cfaa-5c83-4ee7-c8c0-fae5e3285f4c"
      },
      "id": "vN8w_6V1-ype",
      "execution_count": null,
      "outputs": [
        {
          "output_type": "stream",
          "name": "stdout",
          "text": [
            "(100000, 139, 4)\n",
            "(100000, 4)\n",
            "(100000,)\n"
          ]
        }
      ]
    },
    {
      "cell_type": "markdown",
      "source": [
        "1. Node classification: "
      ],
      "metadata": {
        "id": "aMEXxbXenKIp"
      },
      "id": "aMEXxbXenKIp"
    },
    {
      "cell_type": "code",
      "source": [
        "x_train_part1 = x_train[:1000].astype(np.float32)\n",
        "y_train_part1 = y_train[:1000]\n",
        "\n",
        "class NodeClassificationDataset(dgl.data.DGLDataset):\n",
        "  \"\"\"Process and convert numpy training data into Graphs\"\"\"\n",
        "  def __init__(self):\n",
        "    super().__init__(name='node_classification')\n",
        "    self.num_classes = 2\n",
        "  \n",
        "  def process(self):\n",
        "    node_features = torch.from_numpy(x_train_part1)\n",
        "    node_labels = torch.from_numpy(y_train_part1).long()\n",
        "\n",
        "    self.graph = dgl.from_networkx(nx.generators.fast_gnp_random_graph(x_train_part1.shape[0], 0.008, seed=1337))\n",
        "    self.graph.ndata['feat'] = node_features\n",
        "    self.graph.ndata['label'] = node_labels\n",
        "\n",
        "    n_nodes = x_train_part1.shape[0]\n",
        "    n_train = int(n_nodes * 0.8)\n",
        "    n_val = int(n_nodes * 0.1)\n",
        "    train_mask = torch.zeros(n_nodes, dtype=torch.bool)\n",
        "    val_mask = torch.zeros(n_nodes, dtype=torch.bool)\n",
        "    test_mask = torch.zeros(n_nodes, dtype=torch.bool)\n",
        "    train_mask[:n_train] = True\n",
        "    val_mask[n_train:n_train+n_val] = True\n",
        "    test_mask[n_train+n_val:] = True\n",
        "    self.graph.ndata['train_mask'] = train_mask\n",
        "    self.graph.ndata['val_mask'] = val_mask\n",
        "    self.graph.ndata['test_mask'] = test_mask\n",
        "  \n",
        "  def __getitem__(self, idx):\n",
        "    return self.graph\n",
        "  \n",
        "  def __len__(self):\n",
        "    return 1\n",
        "\n",
        "node_class_dataset = NodeClassificationDataset()\n",
        "node_class_graph = node_class_dataset[0]\n",
        "print(node_class_graph)"
      ],
      "metadata": {
        "colab": {
          "base_uri": "https://localhost:8080/"
        },
        "id": "WKI-lx-EWKsH",
        "outputId": "890c6ccf-18fb-4578-c70a-4fadf6d1f6f9"
      },
      "id": "WKI-lx-EWKsH",
      "execution_count": null,
      "outputs": [
        {
          "output_type": "stream",
          "name": "stdout",
          "text": [
            "Graph(num_nodes=1000, num_edges=8010,\n",
            "      ndata_schemes={'feat': Scheme(shape=(4,), dtype=torch.float32), 'label': Scheme(shape=(), dtype=torch.int64), 'train_mask': Scheme(shape=(), dtype=torch.bool), 'val_mask': Scheme(shape=(), dtype=torch.bool), 'test_mask': Scheme(shape=(), dtype=torch.bool)}\n",
            "      edata_schemes={})\n"
          ]
        }
      ]
    },
    {
      "cell_type": "code",
      "source": [
        "class NodeClassificationModel(torch.nn.Module):\n",
        "  \"\"\"Implement and forward pass the GNN\"\"\"\n",
        "  def __init__(self, in_feats, num_classes):\n",
        "    super(NodeClassificationModel, self).__init__()\n",
        "    self.conv1 = GraphConv(in_feats, 16)\n",
        "    self.conv2 = GraphConv(16, 32)\n",
        "    self.conv3 = GraphConv(32, 64)\n",
        "    self.conv4 = GraphConv(64, num_classes)\n",
        "  \n",
        "  def forward(self, g, in_feat):\n",
        "    h = self.conv1(g, in_feat)\n",
        "    h = torch.nn.functional.elu(h)\n",
        "    h = self.conv2(g, h)\n",
        "    h = torch.nn.functional.relu(h)\n",
        "    h = self.conv3(g, h)\n",
        "    h = torch.nn.functional.relu(h)\n",
        "    h = self.conv4(g, h)\n",
        "    return h\n",
        "\n",
        "node_class_model = NodeClassificationModel(node_class_graph.ndata['feat'].shape[1], node_class_dataset.num_classes)"
      ],
      "metadata": {
        "id": "81XfwH8FWKvP"
      },
      "id": "81XfwH8FWKvP",
      "execution_count": null,
      "outputs": []
    },
    {
      "cell_type": "code",
      "source": [
        "def train(g, model, num_epochs):\n",
        "  \"\"\"Training loop implementation\"\"\"\n",
        "  losses = []\n",
        "  accuracies = {'train':[], 'val': [], 'test': []}\n",
        "  optimizer = torch.optim.Adam(model.parameters(), lr=1*1e-5, betas=(0.6, 0.7))\n",
        "  best_val_acc = 0.0\n",
        "  best_test_acc = 0.0\n",
        "\n",
        "  features = g.ndata['feat']\n",
        "  labels = g.ndata['label']\n",
        "  train_mask = g.ndata['train_mask']\n",
        "  val_mask = g.ndata['val_mask']\n",
        "  test_mask = g.ndata['test_mask']\n",
        "\n",
        "  for e in range(num_epochs):\n",
        "    model.train()\n",
        "    logits = model(g, features)\n",
        "    preds = logits.argmax(1)\n",
        "\n",
        "    loss = torch.nn.functional.cross_entropy(logits[train_mask], labels[train_mask])\n",
        "\n",
        "    train_acc = (preds[train_mask] == labels[train_mask]).float().mean()\n",
        "    val_acc = (preds[val_mask] == labels[val_mask]).float().mean()\n",
        "    test_acc = (preds[test_mask] == labels[test_mask]).float().mean()\n",
        "    losses.append(loss)\n",
        "    accuracies['train'].append(train_acc)\n",
        "    accuracies['val'].append(val_acc)\n",
        "    accuracies['test'].append(test_acc)\n",
        "\n",
        "    if best_val_acc < val_acc:\n",
        "      best_val_acc = val_acc\n",
        "      best_test_acc = test_acc\n",
        "\n",
        "    with torch.no_grad():\n",
        "      optimizer.zero_grad()\n",
        "      loss.backward()\n",
        "      optimizer.step()\n",
        "\n",
        "    if e % 5 == 0:\n",
        "      print('In epoch {}, loss: {:.8f}, val acc: {:.8f} (best {:.8f}), test acc: {:.8f} (best {:.8f})'.format(\n",
        "                e, loss, val_acc, best_val_acc, test_acc, best_test_acc))\n",
        "  \n",
        "  return losses, accuracies"
      ],
      "metadata": {
        "id": "dl5cHN8yWKyT"
      },
      "id": "dl5cHN8yWKyT",
      "execution_count": null,
      "outputs": []
    },
    {
      "cell_type": "code",
      "source": [
        "node_class_losses, node_class_accs = train(node_class_graph, node_class_model, 3000)"
      ],
      "metadata": {
        "colab": {
          "base_uri": "https://localhost:8080/"
        },
        "id": "zSNu4L8lWK1i",
        "outputId": "762f1794-f173-486c-ac85-f57ec4978c61"
      },
      "id": "zSNu4L8lWK1i",
      "execution_count": null,
      "outputs": [
        {
          "output_type": "stream",
          "name": "stderr",
          "text": [
            "/usr/local/lib/python3.7/dist-packages/torch/autocast_mode.py:141: UserWarning: User provided device_type of 'cuda', but CUDA is not available. Disabling\n",
            "  warnings.warn('User provided device_type of \\'cuda\\', but CUDA is not available. Disabling')\n"
          ]
        },
        {
          "output_type": "stream",
          "name": "stdout",
          "text": [
            "In epoch 0, loss: 0.69087428, val acc: 0.54000002 (best 0.54000002), test acc: 0.47999999 (best 0.47999999)\n",
            "In epoch 5, loss: 0.69085157, val acc: 0.56999999 (best 0.56999999), test acc: 0.49000001 (best 0.49000001)\n",
            "In epoch 10, loss: 0.69082558, val acc: 0.56999999 (best 0.56999999), test acc: 0.47999999 (best 0.49000001)\n",
            "In epoch 15, loss: 0.69078606, val acc: 0.55000001 (best 0.56999999), test acc: 0.47999999 (best 0.49000001)\n",
            "In epoch 20, loss: 0.69075310, val acc: 0.56999999 (best 0.56999999), test acc: 0.47999999 (best 0.49000001)\n",
            "In epoch 25, loss: 0.69071358, val acc: 0.55000001 (best 0.56999999), test acc: 0.50000000 (best 0.49000001)\n",
            "In epoch 30, loss: 0.69067031, val acc: 0.54000002 (best 0.56999999), test acc: 0.47999999 (best 0.49000001)\n",
            "In epoch 35, loss: 0.69063532, val acc: 0.56000000 (best 0.56999999), test acc: 0.47999999 (best 0.49000001)\n",
            "In epoch 40, loss: 0.69059700, val acc: 0.54000002 (best 0.56999999), test acc: 0.47999999 (best 0.49000001)\n",
            "In epoch 45, loss: 0.69056439, val acc: 0.55000001 (best 0.56999999), test acc: 0.47999999 (best 0.49000001)\n",
            "In epoch 50, loss: 0.69052756, val acc: 0.54000002 (best 0.56999999), test acc: 0.47999999 (best 0.49000001)\n",
            "In epoch 55, loss: 0.69050741, val acc: 0.56999999 (best 0.56999999), test acc: 0.47999999 (best 0.49000001)\n",
            "In epoch 60, loss: 0.69046324, val acc: 0.56000000 (best 0.56999999), test acc: 0.47999999 (best 0.49000001)\n",
            "In epoch 65, loss: 0.69043088, val acc: 0.55000001 (best 0.56999999), test acc: 0.49000001 (best 0.49000001)\n",
            "In epoch 70, loss: 0.69039881, val acc: 0.55000001 (best 0.56999999), test acc: 0.49000001 (best 0.49000001)\n",
            "In epoch 75, loss: 0.69036597, val acc: 0.55000001 (best 0.56999999), test acc: 0.47999999 (best 0.49000001)\n",
            "In epoch 80, loss: 0.69033462, val acc: 0.55000001 (best 0.56999999), test acc: 0.47999999 (best 0.49000001)\n",
            "In epoch 85, loss: 0.69030428, val acc: 0.55000001 (best 0.56999999), test acc: 0.47999999 (best 0.49000001)\n",
            "In epoch 90, loss: 0.69027781, val acc: 0.54000002 (best 0.56999999), test acc: 0.47999999 (best 0.49000001)\n",
            "In epoch 95, loss: 0.69024569, val acc: 0.54000002 (best 0.56999999), test acc: 0.49000001 (best 0.49000001)\n",
            "In epoch 100, loss: 0.69022173, val acc: 0.54000002 (best 0.56999999), test acc: 0.47999999 (best 0.49000001)\n",
            "In epoch 105, loss: 0.69019568, val acc: 0.52999997 (best 0.56999999), test acc: 0.47999999 (best 0.49000001)\n",
            "In epoch 110, loss: 0.69016492, val acc: 0.54000002 (best 0.56999999), test acc: 0.47999999 (best 0.49000001)\n",
            "In epoch 115, loss: 0.69013917, val acc: 0.52999997 (best 0.56999999), test acc: 0.47999999 (best 0.49000001)\n",
            "In epoch 120, loss: 0.69010788, val acc: 0.54000002 (best 0.56999999), test acc: 0.47999999 (best 0.49000001)\n",
            "In epoch 125, loss: 0.69008255, val acc: 0.54000002 (best 0.56999999), test acc: 0.47999999 (best 0.49000001)\n",
            "In epoch 130, loss: 0.69006276, val acc: 0.54000002 (best 0.56999999), test acc: 0.47000000 (best 0.49000001)\n",
            "In epoch 135, loss: 0.69002676, val acc: 0.54000002 (best 0.56999999), test acc: 0.49000001 (best 0.49000001)\n",
            "In epoch 140, loss: 0.69001412, val acc: 0.55000001 (best 0.56999999), test acc: 0.47999999 (best 0.49000001)\n",
            "In epoch 145, loss: 0.68997192, val acc: 0.54000002 (best 0.56999999), test acc: 0.50000000 (best 0.49000001)\n",
            "In epoch 150, loss: 0.68994528, val acc: 0.54000002 (best 0.56999999), test acc: 0.50000000 (best 0.49000001)\n",
            "In epoch 155, loss: 0.68992388, val acc: 0.51999998 (best 0.56999999), test acc: 0.47999999 (best 0.49000001)\n",
            "In epoch 160, loss: 0.68989545, val acc: 0.55000001 (best 0.56999999), test acc: 0.49000001 (best 0.49000001)\n",
            "In epoch 165, loss: 0.68986887, val acc: 0.54000002 (best 0.56999999), test acc: 0.50000000 (best 0.49000001)\n",
            "In epoch 170, loss: 0.68984199, val acc: 0.54000002 (best 0.56999999), test acc: 0.50000000 (best 0.49000001)\n",
            "In epoch 175, loss: 0.68981475, val acc: 0.52999997 (best 0.56999999), test acc: 0.50000000 (best 0.49000001)\n",
            "In epoch 180, loss: 0.68979025, val acc: 0.52999997 (best 0.56999999), test acc: 0.47999999 (best 0.49000001)\n",
            "In epoch 185, loss: 0.68976402, val acc: 0.55000001 (best 0.56999999), test acc: 0.50000000 (best 0.49000001)\n",
            "In epoch 190, loss: 0.68973315, val acc: 0.51999998 (best 0.56999999), test acc: 0.49000001 (best 0.49000001)\n",
            "In epoch 195, loss: 0.68971258, val acc: 0.54000002 (best 0.56999999), test acc: 0.47999999 (best 0.49000001)\n",
            "In epoch 200, loss: 0.68968588, val acc: 0.54000002 (best 0.56999999), test acc: 0.47999999 (best 0.49000001)\n",
            "In epoch 205, loss: 0.68965822, val acc: 0.54000002 (best 0.56999999), test acc: 0.47999999 (best 0.49000001)\n",
            "In epoch 210, loss: 0.68963128, val acc: 0.54000002 (best 0.56999999), test acc: 0.47999999 (best 0.49000001)\n",
            "In epoch 215, loss: 0.68959939, val acc: 0.52999997 (best 0.56999999), test acc: 0.49000001 (best 0.49000001)\n",
            "In epoch 220, loss: 0.68957710, val acc: 0.54000002 (best 0.56999999), test acc: 0.49000001 (best 0.49000001)\n",
            "In epoch 225, loss: 0.68954909, val acc: 0.54000002 (best 0.56999999), test acc: 0.49000001 (best 0.49000001)\n",
            "In epoch 230, loss: 0.68951803, val acc: 0.51999998 (best 0.56999999), test acc: 0.49000001 (best 0.49000001)\n",
            "In epoch 235, loss: 0.68949717, val acc: 0.52999997 (best 0.56999999), test acc: 0.50000000 (best 0.49000001)\n",
            "In epoch 240, loss: 0.68946707, val acc: 0.50999999 (best 0.56999999), test acc: 0.49000001 (best 0.49000001)\n",
            "In epoch 245, loss: 0.68944269, val acc: 0.51999998 (best 0.56999999), test acc: 0.49000001 (best 0.49000001)\n",
            "In epoch 250, loss: 0.68942076, val acc: 0.55000001 (best 0.56999999), test acc: 0.49000001 (best 0.49000001)\n",
            "In epoch 255, loss: 0.68939185, val acc: 0.52999997 (best 0.56999999), test acc: 0.49000001 (best 0.49000001)\n",
            "In epoch 260, loss: 0.68937010, val acc: 0.50999999 (best 0.56999999), test acc: 0.49000001 (best 0.49000001)\n",
            "In epoch 265, loss: 0.68934554, val acc: 0.55000001 (best 0.56999999), test acc: 0.50000000 (best 0.49000001)\n",
            "In epoch 270, loss: 0.68932676, val acc: 0.56000000 (best 0.56999999), test acc: 0.49000001 (best 0.49000001)\n",
            "In epoch 275, loss: 0.68929780, val acc: 0.55000001 (best 0.56999999), test acc: 0.50000000 (best 0.49000001)\n",
            "In epoch 280, loss: 0.68927979, val acc: 0.56000000 (best 0.56999999), test acc: 0.50999999 (best 0.49000001)\n",
            "In epoch 285, loss: 0.68924528, val acc: 0.54000002 (best 0.56999999), test acc: 0.50000000 (best 0.49000001)\n",
            "In epoch 290, loss: 0.68922263, val acc: 0.55000001 (best 0.56999999), test acc: 0.50000000 (best 0.49000001)\n",
            "In epoch 295, loss: 0.68919760, val acc: 0.56000000 (best 0.56999999), test acc: 0.50000000 (best 0.49000001)\n",
            "In epoch 300, loss: 0.68917894, val acc: 0.56000000 (best 0.56999999), test acc: 0.50999999 (best 0.49000001)\n",
            "In epoch 305, loss: 0.68914503, val acc: 0.56000000 (best 0.56999999), test acc: 0.50000000 (best 0.49000001)\n",
            "In epoch 310, loss: 0.68913150, val acc: 0.56000000 (best 0.56999999), test acc: 0.50999999 (best 0.49000001)\n",
            "In epoch 315, loss: 0.68909574, val acc: 0.54000002 (best 0.56999999), test acc: 0.49000001 (best 0.49000001)\n",
            "In epoch 320, loss: 0.68907195, val acc: 0.55000001 (best 0.56999999), test acc: 0.49000001 (best 0.49000001)\n",
            "In epoch 325, loss: 0.68905205, val acc: 0.50000000 (best 0.56999999), test acc: 0.47999999 (best 0.49000001)\n",
            "In epoch 330, loss: 0.68902606, val acc: 0.55000001 (best 0.56999999), test acc: 0.49000001 (best 0.49000001)\n",
            "In epoch 335, loss: 0.68900418, val acc: 0.55000001 (best 0.56999999), test acc: 0.49000001 (best 0.49000001)\n",
            "In epoch 340, loss: 0.68898201, val acc: 0.52999997 (best 0.56999999), test acc: 0.49000001 (best 0.49000001)\n",
            "In epoch 345, loss: 0.68896031, val acc: 0.52999997 (best 0.56999999), test acc: 0.47999999 (best 0.49000001)\n",
            "In epoch 350, loss: 0.68894136, val acc: 0.56000000 (best 0.56999999), test acc: 0.49000001 (best 0.49000001)\n",
            "In epoch 355, loss: 0.68892145, val acc: 0.56000000 (best 0.56999999), test acc: 0.49000001 (best 0.49000001)\n",
            "In epoch 360, loss: 0.68890023, val acc: 0.52999997 (best 0.56999999), test acc: 0.47999999 (best 0.49000001)\n",
            "In epoch 365, loss: 0.68888140, val acc: 0.54000002 (best 0.56999999), test acc: 0.49000001 (best 0.49000001)\n",
            "In epoch 370, loss: 0.68885946, val acc: 0.52999997 (best 0.56999999), test acc: 0.47000000 (best 0.49000001)\n",
            "In epoch 375, loss: 0.68883848, val acc: 0.52999997 (best 0.56999999), test acc: 0.47999999 (best 0.49000001)\n",
            "In epoch 380, loss: 0.68882400, val acc: 0.54000002 (best 0.56999999), test acc: 0.50000000 (best 0.49000001)\n",
            "In epoch 385, loss: 0.68879855, val acc: 0.52999997 (best 0.56999999), test acc: 0.47999999 (best 0.49000001)\n",
            "In epoch 390, loss: 0.68878400, val acc: 0.52999997 (best 0.56999999), test acc: 0.50000000 (best 0.49000001)\n",
            "In epoch 395, loss: 0.68876433, val acc: 0.52999997 (best 0.56999999), test acc: 0.50999999 (best 0.49000001)\n",
            "In epoch 400, loss: 0.68874252, val acc: 0.52999997 (best 0.56999999), test acc: 0.50999999 (best 0.49000001)\n",
            "In epoch 405, loss: 0.68872088, val acc: 0.52999997 (best 0.56999999), test acc: 0.50000000 (best 0.49000001)\n",
            "In epoch 410, loss: 0.68869245, val acc: 0.51999998 (best 0.56999999), test acc: 0.49000001 (best 0.49000001)\n",
            "In epoch 415, loss: 0.68867826, val acc: 0.52999997 (best 0.56999999), test acc: 0.49000001 (best 0.49000001)\n",
            "In epoch 420, loss: 0.68864852, val acc: 0.51999998 (best 0.56999999), test acc: 0.49000001 (best 0.49000001)\n",
            "In epoch 425, loss: 0.68862623, val acc: 0.51999998 (best 0.56999999), test acc: 0.50000000 (best 0.49000001)\n",
            "In epoch 430, loss: 0.68859935, val acc: 0.52999997 (best 0.56999999), test acc: 0.47999999 (best 0.49000001)\n",
            "In epoch 435, loss: 0.68857527, val acc: 0.52999997 (best 0.56999999), test acc: 0.47999999 (best 0.49000001)\n",
            "In epoch 440, loss: 0.68855017, val acc: 0.52999997 (best 0.56999999), test acc: 0.50000000 (best 0.49000001)\n",
            "In epoch 445, loss: 0.68852597, val acc: 0.52999997 (best 0.56999999), test acc: 0.49000001 (best 0.49000001)\n",
            "In epoch 450, loss: 0.68850410, val acc: 0.52999997 (best 0.56999999), test acc: 0.49000001 (best 0.49000001)\n",
            "In epoch 455, loss: 0.68847364, val acc: 0.52999997 (best 0.56999999), test acc: 0.50000000 (best 0.49000001)\n",
            "In epoch 460, loss: 0.68845278, val acc: 0.52999997 (best 0.56999999), test acc: 0.50999999 (best 0.49000001)\n",
            "In epoch 465, loss: 0.68842810, val acc: 0.52999997 (best 0.56999999), test acc: 0.50999999 (best 0.49000001)\n",
            "In epoch 470, loss: 0.68840110, val acc: 0.52999997 (best 0.56999999), test acc: 0.49000001 (best 0.49000001)\n",
            "In epoch 475, loss: 0.68837303, val acc: 0.52999997 (best 0.56999999), test acc: 0.49000001 (best 0.49000001)\n",
            "In epoch 480, loss: 0.68834734, val acc: 0.52999997 (best 0.56999999), test acc: 0.50000000 (best 0.49000001)\n",
            "In epoch 485, loss: 0.68831766, val acc: 0.52999997 (best 0.56999999), test acc: 0.49000001 (best 0.49000001)\n",
            "In epoch 490, loss: 0.68829489, val acc: 0.51999998 (best 0.56999999), test acc: 0.49000001 (best 0.49000001)\n",
            "In epoch 495, loss: 0.68826890, val acc: 0.51999998 (best 0.56999999), test acc: 0.49000001 (best 0.49000001)\n",
            "In epoch 500, loss: 0.68824637, val acc: 0.50999999 (best 0.56999999), test acc: 0.50000000 (best 0.49000001)\n",
            "In epoch 505, loss: 0.68821979, val acc: 0.50999999 (best 0.56999999), test acc: 0.50000000 (best 0.49000001)\n",
            "In epoch 510, loss: 0.68819457, val acc: 0.50999999 (best 0.56999999), test acc: 0.49000001 (best 0.49000001)\n",
            "In epoch 515, loss: 0.68817610, val acc: 0.51999998 (best 0.56999999), test acc: 0.49000001 (best 0.49000001)\n",
            "In epoch 520, loss: 0.68814015, val acc: 0.52999997 (best 0.56999999), test acc: 0.49000001 (best 0.49000001)\n",
            "In epoch 525, loss: 0.68812680, val acc: 0.51999998 (best 0.56999999), test acc: 0.49000001 (best 0.49000001)\n",
            "In epoch 530, loss: 0.68808395, val acc: 0.51999998 (best 0.56999999), test acc: 0.49000001 (best 0.49000001)\n",
            "In epoch 535, loss: 0.68805712, val acc: 0.51999998 (best 0.56999999), test acc: 0.49000001 (best 0.49000001)\n",
            "In epoch 540, loss: 0.68803263, val acc: 0.51999998 (best 0.56999999), test acc: 0.49000001 (best 0.49000001)\n",
            "In epoch 545, loss: 0.68800282, val acc: 0.52999997 (best 0.56999999), test acc: 0.49000001 (best 0.49000001)\n",
            "In epoch 550, loss: 0.68797553, val acc: 0.52999997 (best 0.56999999), test acc: 0.49000001 (best 0.49000001)\n",
            "In epoch 555, loss: 0.68794686, val acc: 0.52999997 (best 0.56999999), test acc: 0.49000001 (best 0.49000001)\n",
            "In epoch 560, loss: 0.68791807, val acc: 0.52999997 (best 0.56999999), test acc: 0.49000001 (best 0.49000001)\n",
            "In epoch 565, loss: 0.68789214, val acc: 0.52999997 (best 0.56999999), test acc: 0.50000000 (best 0.49000001)\n",
            "In epoch 570, loss: 0.68785936, val acc: 0.52999997 (best 0.56999999), test acc: 0.50000000 (best 0.49000001)\n",
            "In epoch 575, loss: 0.68783224, val acc: 0.52999997 (best 0.56999999), test acc: 0.50000000 (best 0.49000001)\n",
            "In epoch 580, loss: 0.68779975, val acc: 0.52999997 (best 0.56999999), test acc: 0.50000000 (best 0.49000001)\n",
            "In epoch 585, loss: 0.68777812, val acc: 0.51999998 (best 0.56999999), test acc: 0.50000000 (best 0.49000001)\n",
            "In epoch 590, loss: 0.68774951, val acc: 0.52999997 (best 0.56999999), test acc: 0.50000000 (best 0.49000001)\n",
            "In epoch 595, loss: 0.68771774, val acc: 0.52999997 (best 0.56999999), test acc: 0.50999999 (best 0.49000001)\n",
            "In epoch 600, loss: 0.68769246, val acc: 0.52999997 (best 0.56999999), test acc: 0.50000000 (best 0.49000001)\n",
            "In epoch 605, loss: 0.68766946, val acc: 0.52999997 (best 0.56999999), test acc: 0.50000000 (best 0.49000001)\n",
            "In epoch 610, loss: 0.68764281, val acc: 0.52999997 (best 0.56999999), test acc: 0.50000000 (best 0.49000001)\n",
            "In epoch 615, loss: 0.68761981, val acc: 0.51999998 (best 0.56999999), test acc: 0.50000000 (best 0.49000001)\n",
            "In epoch 620, loss: 0.68758875, val acc: 0.52999997 (best 0.56999999), test acc: 0.50000000 (best 0.49000001)\n",
            "In epoch 625, loss: 0.68756479, val acc: 0.52999997 (best 0.56999999), test acc: 0.50000000 (best 0.49000001)\n",
            "In epoch 630, loss: 0.68753952, val acc: 0.52999997 (best 0.56999999), test acc: 0.50000000 (best 0.49000001)\n",
            "In epoch 635, loss: 0.68751794, val acc: 0.52999997 (best 0.56999999), test acc: 0.50000000 (best 0.49000001)\n",
            "In epoch 640, loss: 0.68750495, val acc: 0.55000001 (best 0.56999999), test acc: 0.49000001 (best 0.49000001)\n",
            "In epoch 645, loss: 0.68747115, val acc: 0.52999997 (best 0.56999999), test acc: 0.49000001 (best 0.49000001)\n",
            "In epoch 650, loss: 0.68745017, val acc: 0.52999997 (best 0.56999999), test acc: 0.47999999 (best 0.49000001)\n",
            "In epoch 655, loss: 0.68743467, val acc: 0.52999997 (best 0.56999999), test acc: 0.50000000 (best 0.49000001)\n",
            "In epoch 660, loss: 0.68741071, val acc: 0.54000002 (best 0.56999999), test acc: 0.47999999 (best 0.49000001)\n",
            "In epoch 665, loss: 0.68738782, val acc: 0.52999997 (best 0.56999999), test acc: 0.47999999 (best 0.49000001)\n",
            "In epoch 670, loss: 0.68736684, val acc: 0.52999997 (best 0.56999999), test acc: 0.47999999 (best 0.49000001)\n",
            "In epoch 675, loss: 0.68735212, val acc: 0.54000002 (best 0.56999999), test acc: 0.49000001 (best 0.49000001)\n",
            "In epoch 680, loss: 0.68732697, val acc: 0.52999997 (best 0.56999999), test acc: 0.47999999 (best 0.49000001)\n",
            "In epoch 685, loss: 0.68731254, val acc: 0.52999997 (best 0.56999999), test acc: 0.50000000 (best 0.49000001)\n",
            "In epoch 690, loss: 0.68729258, val acc: 0.52999997 (best 0.56999999), test acc: 0.50000000 (best 0.49000001)\n",
            "In epoch 695, loss: 0.68726754, val acc: 0.52999997 (best 0.56999999), test acc: 0.49000001 (best 0.49000001)\n",
            "In epoch 700, loss: 0.68725324, val acc: 0.52999997 (best 0.56999999), test acc: 0.50000000 (best 0.49000001)\n",
            "In epoch 705, loss: 0.68723685, val acc: 0.52999997 (best 0.56999999), test acc: 0.50000000 (best 0.49000001)\n",
            "In epoch 710, loss: 0.68721849, val acc: 0.52999997 (best 0.56999999), test acc: 0.50000000 (best 0.49000001)\n",
            "In epoch 715, loss: 0.68719977, val acc: 0.52999997 (best 0.56999999), test acc: 0.50000000 (best 0.49000001)\n",
            "In epoch 720, loss: 0.68717951, val acc: 0.52999997 (best 0.56999999), test acc: 0.49000001 (best 0.49000001)\n",
            "In epoch 725, loss: 0.68715894, val acc: 0.52999997 (best 0.56999999), test acc: 0.50000000 (best 0.49000001)\n",
            "In epoch 730, loss: 0.68714118, val acc: 0.52999997 (best 0.56999999), test acc: 0.49000001 (best 0.49000001)\n",
            "In epoch 735, loss: 0.68711835, val acc: 0.52999997 (best 0.56999999), test acc: 0.49000001 (best 0.49000001)\n",
            "In epoch 740, loss: 0.68710536, val acc: 0.52999997 (best 0.56999999), test acc: 0.49000001 (best 0.49000001)\n",
            "In epoch 745, loss: 0.68708873, val acc: 0.52999997 (best 0.56999999), test acc: 0.50000000 (best 0.49000001)\n",
            "In epoch 750, loss: 0.68706924, val acc: 0.52999997 (best 0.56999999), test acc: 0.49000001 (best 0.49000001)\n",
            "In epoch 755, loss: 0.68704551, val acc: 0.54000002 (best 0.56999999), test acc: 0.49000001 (best 0.49000001)\n",
            "In epoch 760, loss: 0.68703347, val acc: 0.52999997 (best 0.56999999), test acc: 0.49000001 (best 0.49000001)\n",
            "In epoch 765, loss: 0.68701309, val acc: 0.52999997 (best 0.56999999), test acc: 0.49000001 (best 0.49000001)\n",
            "In epoch 770, loss: 0.68698931, val acc: 0.54000002 (best 0.56999999), test acc: 0.49000001 (best 0.49000001)\n",
            "In epoch 775, loss: 0.68697602, val acc: 0.52999997 (best 0.56999999), test acc: 0.49000001 (best 0.49000001)\n",
            "In epoch 780, loss: 0.68695182, val acc: 0.55000001 (best 0.56999999), test acc: 0.49000001 (best 0.49000001)\n",
            "In epoch 785, loss: 0.68693262, val acc: 0.55000001 (best 0.56999999), test acc: 0.49000001 (best 0.49000001)\n",
            "In epoch 790, loss: 0.68691450, val acc: 0.55000001 (best 0.56999999), test acc: 0.49000001 (best 0.49000001)\n",
            "In epoch 795, loss: 0.68689924, val acc: 0.55000001 (best 0.56999999), test acc: 0.50000000 (best 0.49000001)\n",
            "In epoch 800, loss: 0.68687719, val acc: 0.55000001 (best 0.56999999), test acc: 0.50000000 (best 0.49000001)\n",
            "In epoch 805, loss: 0.68686438, val acc: 0.55000001 (best 0.56999999), test acc: 0.50000000 (best 0.49000001)\n",
            "In epoch 810, loss: 0.68684793, val acc: 0.55000001 (best 0.56999999), test acc: 0.50000000 (best 0.49000001)\n",
            "In epoch 815, loss: 0.68682855, val acc: 0.55000001 (best 0.56999999), test acc: 0.50000000 (best 0.49000001)\n",
            "In epoch 820, loss: 0.68680936, val acc: 0.55000001 (best 0.56999999), test acc: 0.50000000 (best 0.49000001)\n",
            "In epoch 825, loss: 0.68678993, val acc: 0.55000001 (best 0.56999999), test acc: 0.50000000 (best 0.49000001)\n",
            "In epoch 830, loss: 0.68676972, val acc: 0.55000001 (best 0.56999999), test acc: 0.50000000 (best 0.49000001)\n",
            "In epoch 835, loss: 0.68675643, val acc: 0.55000001 (best 0.56999999), test acc: 0.49000001 (best 0.49000001)\n",
            "In epoch 840, loss: 0.68673623, val acc: 0.55000001 (best 0.56999999), test acc: 0.50000000 (best 0.49000001)\n",
            "In epoch 845, loss: 0.68672472, val acc: 0.55000001 (best 0.56999999), test acc: 0.49000001 (best 0.49000001)\n",
            "In epoch 850, loss: 0.68671227, val acc: 0.55000001 (best 0.56999999), test acc: 0.47999999 (best 0.49000001)\n",
            "In epoch 855, loss: 0.68669617, val acc: 0.55000001 (best 0.56999999), test acc: 0.47999999 (best 0.49000001)\n",
            "In epoch 860, loss: 0.68668181, val acc: 0.55000001 (best 0.56999999), test acc: 0.47999999 (best 0.49000001)\n",
            "In epoch 865, loss: 0.68666518, val acc: 0.55000001 (best 0.56999999), test acc: 0.47999999 (best 0.49000001)\n",
            "In epoch 870, loss: 0.68664962, val acc: 0.55000001 (best 0.56999999), test acc: 0.47999999 (best 0.49000001)\n",
            "In epoch 875, loss: 0.68663466, val acc: 0.55000001 (best 0.56999999), test acc: 0.47999999 (best 0.49000001)\n",
            "In epoch 880, loss: 0.68661547, val acc: 0.55000001 (best 0.56999999), test acc: 0.49000001 (best 0.49000001)\n",
            "In epoch 885, loss: 0.68660527, val acc: 0.55000001 (best 0.56999999), test acc: 0.47999999 (best 0.49000001)\n",
            "In epoch 890, loss: 0.68658799, val acc: 0.55000001 (best 0.56999999), test acc: 0.49000001 (best 0.49000001)\n",
            "In epoch 895, loss: 0.68656993, val acc: 0.56999999 (best 0.56999999), test acc: 0.49000001 (best 0.49000001)\n",
            "In epoch 900, loss: 0.68655509, val acc: 0.56999999 (best 0.56999999), test acc: 0.50000000 (best 0.49000001)\n",
            "In epoch 905, loss: 0.68653876, val acc: 0.56000000 (best 0.56999999), test acc: 0.49000001 (best 0.49000001)\n",
            "In epoch 910, loss: 0.68652862, val acc: 0.56999999 (best 0.56999999), test acc: 0.49000001 (best 0.49000001)\n",
            "In epoch 915, loss: 0.68651307, val acc: 0.55000001 (best 0.56999999), test acc: 0.47999999 (best 0.49000001)\n",
            "In epoch 920, loss: 0.68649328, val acc: 0.56000000 (best 0.56999999), test acc: 0.49000001 (best 0.49000001)\n",
            "In epoch 925, loss: 0.68649012, val acc: 0.54000002 (best 0.56999999), test acc: 0.49000001 (best 0.49000001)\n",
            "In epoch 930, loss: 0.68646729, val acc: 0.56000000 (best 0.56999999), test acc: 0.49000001 (best 0.49000001)\n",
            "In epoch 935, loss: 0.68645388, val acc: 0.55000001 (best 0.56999999), test acc: 0.49000001 (best 0.49000001)\n",
            "In epoch 940, loss: 0.68644059, val acc: 0.55000001 (best 0.56999999), test acc: 0.47999999 (best 0.49000001)\n",
            "In epoch 945, loss: 0.68642837, val acc: 0.55000001 (best 0.56999999), test acc: 0.47999999 (best 0.49000001)\n",
            "In epoch 950, loss: 0.68641388, val acc: 0.55000001 (best 0.56999999), test acc: 0.47999999 (best 0.49000001)\n",
            "In epoch 955, loss: 0.68640977, val acc: 0.54000002 (best 0.56999999), test acc: 0.49000001 (best 0.49000001)\n",
            "In epoch 960, loss: 0.68638551, val acc: 0.56999999 (best 0.56999999), test acc: 0.47999999 (best 0.49000001)\n",
            "In epoch 965, loss: 0.68637246, val acc: 0.56000000 (best 0.56999999), test acc: 0.47999999 (best 0.49000001)\n",
            "In epoch 970, loss: 0.68635893, val acc: 0.56999999 (best 0.56999999), test acc: 0.47999999 (best 0.49000001)\n",
            "In epoch 975, loss: 0.68634832, val acc: 0.54000002 (best 0.56999999), test acc: 0.49000001 (best 0.49000001)\n",
            "In epoch 980, loss: 0.68633592, val acc: 0.56999999 (best 0.56999999), test acc: 0.49000001 (best 0.49000001)\n",
            "In epoch 985, loss: 0.68631798, val acc: 0.56999999 (best 0.56999999), test acc: 0.47999999 (best 0.49000001)\n",
            "In epoch 990, loss: 0.68630636, val acc: 0.55000001 (best 0.56999999), test acc: 0.49000001 (best 0.49000001)\n",
            "In epoch 995, loss: 0.68629509, val acc: 0.55000001 (best 0.56999999), test acc: 0.49000001 (best 0.49000001)\n",
            "In epoch 1000, loss: 0.68627763, val acc: 0.56999999 (best 0.56999999), test acc: 0.47999999 (best 0.49000001)\n",
            "In epoch 1005, loss: 0.68627077, val acc: 0.56999999 (best 0.57999998), test acc: 0.49000001 (best 0.50000000)\n",
            "In epoch 1010, loss: 0.68625414, val acc: 0.56999999 (best 0.57999998), test acc: 0.49000001 (best 0.50000000)\n",
            "In epoch 1015, loss: 0.68624222, val acc: 0.56000000 (best 0.57999998), test acc: 0.49000001 (best 0.50000000)\n",
            "In epoch 1020, loss: 0.68622857, val acc: 0.56999999 (best 0.57999998), test acc: 0.47999999 (best 0.50000000)\n",
            "In epoch 1025, loss: 0.68621778, val acc: 0.56000000 (best 0.57999998), test acc: 0.49000001 (best 0.50000000)\n",
            "In epoch 1030, loss: 0.68620926, val acc: 0.55000001 (best 0.57999998), test acc: 0.49000001 (best 0.50000000)\n",
            "In epoch 1035, loss: 0.68619406, val acc: 0.56000000 (best 0.57999998), test acc: 0.49000001 (best 0.50000000)\n",
            "In epoch 1040, loss: 0.68618548, val acc: 0.56000000 (best 0.57999998), test acc: 0.49000001 (best 0.50000000)\n",
            "In epoch 1045, loss: 0.68616897, val acc: 0.56000000 (best 0.57999998), test acc: 0.49000001 (best 0.50000000)\n",
            "In epoch 1050, loss: 0.68616349, val acc: 0.55000001 (best 0.57999998), test acc: 0.49000001 (best 0.50000000)\n",
            "In epoch 1055, loss: 0.68615180, val acc: 0.56000000 (best 0.57999998), test acc: 0.49000001 (best 0.50000000)\n",
            "In epoch 1060, loss: 0.68614066, val acc: 0.55000001 (best 0.57999998), test acc: 0.49000001 (best 0.50000000)\n",
            "In epoch 1065, loss: 0.68612510, val acc: 0.56000000 (best 0.57999998), test acc: 0.49000001 (best 0.50000000)\n",
            "In epoch 1070, loss: 0.68612009, val acc: 0.55000001 (best 0.57999998), test acc: 0.50000000 (best 0.50000000)\n",
            "In epoch 1075, loss: 0.68610108, val acc: 0.56000000 (best 0.57999998), test acc: 0.49000001 (best 0.50000000)\n",
            "In epoch 1080, loss: 0.68610334, val acc: 0.55000001 (best 0.57999998), test acc: 0.50000000 (best 0.50000000)\n",
            "In epoch 1085, loss: 0.68607521, val acc: 0.56999999 (best 0.57999998), test acc: 0.49000001 (best 0.50000000)\n",
            "In epoch 1090, loss: 0.68606323, val acc: 0.56000000 (best 0.57999998), test acc: 0.49000001 (best 0.50000000)\n",
            "In epoch 1095, loss: 0.68606436, val acc: 0.55000001 (best 0.57999998), test acc: 0.50000000 (best 0.50000000)\n",
            "In epoch 1100, loss: 0.68603957, val acc: 0.56999999 (best 0.57999998), test acc: 0.49000001 (best 0.50000000)\n",
            "In epoch 1105, loss: 0.68602824, val acc: 0.56999999 (best 0.57999998), test acc: 0.49000001 (best 0.50000000)\n",
            "In epoch 1110, loss: 0.68601996, val acc: 0.56999999 (best 0.57999998), test acc: 0.49000001 (best 0.50000000)\n",
            "In epoch 1115, loss: 0.68600625, val acc: 0.56999999 (best 0.57999998), test acc: 0.49000001 (best 0.50000000)\n",
            "In epoch 1120, loss: 0.68599409, val acc: 0.56999999 (best 0.57999998), test acc: 0.49000001 (best 0.50000000)\n",
            "In epoch 1125, loss: 0.68598723, val acc: 0.56999999 (best 0.57999998), test acc: 0.49000001 (best 0.50000000)\n",
            "In epoch 1130, loss: 0.68596947, val acc: 0.56999999 (best 0.57999998), test acc: 0.49000001 (best 0.50000000)\n",
            "In epoch 1135, loss: 0.68595910, val acc: 0.56999999 (best 0.57999998), test acc: 0.49000001 (best 0.50000000)\n",
            "In epoch 1140, loss: 0.68594050, val acc: 0.56999999 (best 0.57999998), test acc: 0.49000001 (best 0.50000000)\n",
            "In epoch 1145, loss: 0.68592918, val acc: 0.56999999 (best 0.57999998), test acc: 0.50000000 (best 0.50000000)\n",
            "In epoch 1150, loss: 0.68592590, val acc: 0.56999999 (best 0.57999998), test acc: 0.49000001 (best 0.50000000)\n",
            "In epoch 1155, loss: 0.68590057, val acc: 0.56000000 (best 0.57999998), test acc: 0.49000001 (best 0.50000000)\n",
            "In epoch 1160, loss: 0.68589002, val acc: 0.56999999 (best 0.57999998), test acc: 0.50000000 (best 0.50000000)\n",
            "In epoch 1165, loss: 0.68587393, val acc: 0.56000000 (best 0.57999998), test acc: 0.49000001 (best 0.50000000)\n",
            "In epoch 1170, loss: 0.68586057, val acc: 0.56999999 (best 0.57999998), test acc: 0.49000001 (best 0.50000000)\n",
            "In epoch 1175, loss: 0.68584877, val acc: 0.56999999 (best 0.57999998), test acc: 0.50000000 (best 0.50000000)\n",
            "In epoch 1180, loss: 0.68583792, val acc: 0.56999999 (best 0.57999998), test acc: 0.50000000 (best 0.50000000)\n",
            "In epoch 1185, loss: 0.68582129, val acc: 0.56999999 (best 0.57999998), test acc: 0.49000001 (best 0.50000000)\n",
            "In epoch 1190, loss: 0.68581408, val acc: 0.56999999 (best 0.57999998), test acc: 0.50000000 (best 0.50000000)\n",
            "In epoch 1195, loss: 0.68580091, val acc: 0.56999999 (best 0.57999998), test acc: 0.50000000 (best 0.50000000)\n",
            "In epoch 1200, loss: 0.68578142, val acc: 0.56999999 (best 0.57999998), test acc: 0.50000000 (best 0.50000000)\n",
            "In epoch 1205, loss: 0.68577158, val acc: 0.56999999 (best 0.57999998), test acc: 0.50000000 (best 0.50000000)\n",
            "In epoch 1210, loss: 0.68575740, val acc: 0.56999999 (best 0.57999998), test acc: 0.50000000 (best 0.50000000)\n",
            "In epoch 1215, loss: 0.68574744, val acc: 0.56000000 (best 0.57999998), test acc: 0.50999999 (best 0.50000000)\n",
            "In epoch 1220, loss: 0.68572557, val acc: 0.56999999 (best 0.57999998), test acc: 0.50000000 (best 0.50000000)\n",
            "In epoch 1225, loss: 0.68571579, val acc: 0.56999999 (best 0.57999998), test acc: 0.50999999 (best 0.50000000)\n",
            "In epoch 1230, loss: 0.68569964, val acc: 0.56999999 (best 0.57999998), test acc: 0.50000000 (best 0.50000000)\n",
            "In epoch 1235, loss: 0.68569595, val acc: 0.56000000 (best 0.57999998), test acc: 0.50000000 (best 0.50000000)\n",
            "In epoch 1240, loss: 0.68566734, val acc: 0.56999999 (best 0.57999998), test acc: 0.50000000 (best 0.50000000)\n",
            "In epoch 1245, loss: 0.68565565, val acc: 0.56999999 (best 0.57999998), test acc: 0.50999999 (best 0.50000000)\n",
            "In epoch 1250, loss: 0.68563789, val acc: 0.56999999 (best 0.57999998), test acc: 0.50000000 (best 0.50000000)\n",
            "In epoch 1255, loss: 0.68562609, val acc: 0.56999999 (best 0.57999998), test acc: 0.50999999 (best 0.50000000)\n",
            "In epoch 1260, loss: 0.68560988, val acc: 0.56999999 (best 0.57999998), test acc: 0.49000001 (best 0.50000000)\n",
            "In epoch 1265, loss: 0.68559372, val acc: 0.56999999 (best 0.57999998), test acc: 0.50000000 (best 0.50000000)\n",
            "In epoch 1270, loss: 0.68557948, val acc: 0.56999999 (best 0.57999998), test acc: 0.50000000 (best 0.50000000)\n",
            "In epoch 1275, loss: 0.68556374, val acc: 0.56999999 (best 0.57999998), test acc: 0.50000000 (best 0.50000000)\n",
            "In epoch 1280, loss: 0.68554884, val acc: 0.56999999 (best 0.57999998), test acc: 0.50000000 (best 0.50000000)\n",
            "In epoch 1285, loss: 0.68553871, val acc: 0.56999999 (best 0.57999998), test acc: 0.49000001 (best 0.50000000)\n",
            "In epoch 1290, loss: 0.68551910, val acc: 0.56999999 (best 0.57999998), test acc: 0.50000000 (best 0.50000000)\n",
            "In epoch 1295, loss: 0.68550873, val acc: 0.56999999 (best 0.58999997), test acc: 0.49000001 (best 0.50000000)\n",
            "In epoch 1300, loss: 0.68549383, val acc: 0.56999999 (best 0.58999997), test acc: 0.49000001 (best 0.50000000)\n",
            "In epoch 1305, loss: 0.68547666, val acc: 0.56999999 (best 0.58999997), test acc: 0.49000001 (best 0.50000000)\n",
            "In epoch 1310, loss: 0.68545532, val acc: 0.56999999 (best 0.58999997), test acc: 0.50000000 (best 0.50000000)\n",
            "In epoch 1315, loss: 0.68544316, val acc: 0.56999999 (best 0.58999997), test acc: 0.49000001 (best 0.50000000)\n",
            "In epoch 1320, loss: 0.68542922, val acc: 0.57999998 (best 0.58999997), test acc: 0.49000001 (best 0.50000000)\n",
            "In epoch 1325, loss: 0.68541253, val acc: 0.57999998 (best 0.58999997), test acc: 0.49000001 (best 0.50000000)\n",
            "In epoch 1330, loss: 0.68539649, val acc: 0.57999998 (best 0.58999997), test acc: 0.49000001 (best 0.50000000)\n",
            "In epoch 1335, loss: 0.68538058, val acc: 0.57999998 (best 0.58999997), test acc: 0.50000000 (best 0.50000000)\n",
            "In epoch 1340, loss: 0.68536413, val acc: 0.57999998 (best 0.58999997), test acc: 0.50000000 (best 0.50000000)\n",
            "In epoch 1345, loss: 0.68534797, val acc: 0.56999999 (best 0.58999997), test acc: 0.50000000 (best 0.50000000)\n",
            "In epoch 1350, loss: 0.68533003, val acc: 0.56999999 (best 0.58999997), test acc: 0.50000000 (best 0.50000000)\n",
            "In epoch 1355, loss: 0.68531728, val acc: 0.56999999 (best 0.58999997), test acc: 0.50000000 (best 0.50000000)\n",
            "In epoch 1360, loss: 0.68529844, val acc: 0.56999999 (best 0.58999997), test acc: 0.50999999 (best 0.50000000)\n",
            "In epoch 1365, loss: 0.68528700, val acc: 0.56999999 (best 0.58999997), test acc: 0.50999999 (best 0.50000000)\n",
            "In epoch 1370, loss: 0.68527466, val acc: 0.57999998 (best 0.58999997), test acc: 0.50000000 (best 0.50000000)\n",
            "In epoch 1375, loss: 0.68526286, val acc: 0.57999998 (best 0.58999997), test acc: 0.50000000 (best 0.50000000)\n",
            "In epoch 1380, loss: 0.68524522, val acc: 0.57999998 (best 0.58999997), test acc: 0.50999999 (best 0.50000000)\n",
            "In epoch 1385, loss: 0.68523198, val acc: 0.57999998 (best 0.58999997), test acc: 0.50999999 (best 0.50000000)\n",
            "In epoch 1390, loss: 0.68521559, val acc: 0.56999999 (best 0.58999997), test acc: 0.50999999 (best 0.50000000)\n",
            "In epoch 1395, loss: 0.68520594, val acc: 0.56999999 (best 0.58999997), test acc: 0.50999999 (best 0.50000000)\n",
            "In epoch 1400, loss: 0.68519503, val acc: 0.57999998 (best 0.58999997), test acc: 0.50999999 (best 0.50000000)\n",
            "In epoch 1405, loss: 0.68518335, val acc: 0.57999998 (best 0.58999997), test acc: 0.50999999 (best 0.50000000)\n",
            "In epoch 1410, loss: 0.68517286, val acc: 0.57999998 (best 0.58999997), test acc: 0.50999999 (best 0.50000000)\n",
            "In epoch 1415, loss: 0.68515986, val acc: 0.57999998 (best 0.58999997), test acc: 0.50999999 (best 0.50000000)\n",
            "In epoch 1420, loss: 0.68514985, val acc: 0.57999998 (best 0.58999997), test acc: 0.50999999 (best 0.50000000)\n",
            "In epoch 1425, loss: 0.68513411, val acc: 0.57999998 (best 0.58999997), test acc: 0.50999999 (best 0.50000000)\n",
            "In epoch 1430, loss: 0.68512177, val acc: 0.57999998 (best 0.58999997), test acc: 0.50999999 (best 0.50000000)\n",
            "In epoch 1435, loss: 0.68510795, val acc: 0.56999999 (best 0.58999997), test acc: 0.50999999 (best 0.50000000)\n",
            "In epoch 1440, loss: 0.68510002, val acc: 0.56999999 (best 0.58999997), test acc: 0.50999999 (best 0.50000000)\n",
            "In epoch 1445, loss: 0.68508857, val acc: 0.56999999 (best 0.58999997), test acc: 0.50999999 (best 0.50000000)\n",
            "In epoch 1450, loss: 0.68508357, val acc: 0.57999998 (best 0.58999997), test acc: 0.51999998 (best 0.50000000)\n",
            "In epoch 1455, loss: 0.68506545, val acc: 0.57999998 (best 0.58999997), test acc: 0.50000000 (best 0.50000000)\n",
            "In epoch 1460, loss: 0.68505597, val acc: 0.57999998 (best 0.58999997), test acc: 0.50999999 (best 0.50000000)\n",
            "In epoch 1465, loss: 0.68504089, val acc: 0.56999999 (best 0.58999997), test acc: 0.50999999 (best 0.50000000)\n",
            "In epoch 1470, loss: 0.68502975, val acc: 0.56999999 (best 0.58999997), test acc: 0.50999999 (best 0.50000000)\n",
            "In epoch 1475, loss: 0.68502396, val acc: 0.56999999 (best 0.58999997), test acc: 0.47999999 (best 0.50000000)\n",
            "In epoch 1480, loss: 0.68501395, val acc: 0.57999998 (best 0.58999997), test acc: 0.50000000 (best 0.50000000)\n",
            "In epoch 1485, loss: 0.68499887, val acc: 0.56999999 (best 0.58999997), test acc: 0.49000001 (best 0.50000000)\n",
            "In epoch 1490, loss: 0.68499780, val acc: 0.56999999 (best 0.60000002), test acc: 0.47999999 (best 0.52999997)\n",
            "In epoch 1495, loss: 0.68498194, val acc: 0.56999999 (best 0.60000002), test acc: 0.47999999 (best 0.52999997)\n",
            "In epoch 1500, loss: 0.68497825, val acc: 0.58999997 (best 0.60000002), test acc: 0.52999997 (best 0.52999997)\n",
            "In epoch 1505, loss: 0.68495977, val acc: 0.56999999 (best 0.60000002), test acc: 0.49000001 (best 0.52999997)\n",
            "In epoch 1510, loss: 0.68495047, val acc: 0.56999999 (best 0.60000002), test acc: 0.50000000 (best 0.52999997)\n",
            "In epoch 1515, loss: 0.68494117, val acc: 0.56999999 (best 0.60000002), test acc: 0.47999999 (best 0.52999997)\n",
            "In epoch 1520, loss: 0.68493402, val acc: 0.57999998 (best 0.60000002), test acc: 0.50000000 (best 0.52999997)\n",
            "In epoch 1525, loss: 0.68491966, val acc: 0.56999999 (best 0.60000002), test acc: 0.49000001 (best 0.52999997)\n",
            "In epoch 1530, loss: 0.68491125, val acc: 0.56999999 (best 0.60000002), test acc: 0.50999999 (best 0.52999997)\n",
            "In epoch 1535, loss: 0.68490380, val acc: 0.57999998 (best 0.60000002), test acc: 0.50000000 (best 0.52999997)\n",
            "In epoch 1540, loss: 0.68489099, val acc: 0.56999999 (best 0.60000002), test acc: 0.50999999 (best 0.52999997)\n",
            "In epoch 1545, loss: 0.68488258, val acc: 0.57999998 (best 0.60000002), test acc: 0.50000000 (best 0.52999997)\n",
            "In epoch 1550, loss: 0.68486804, val acc: 0.56999999 (best 0.60000002), test acc: 0.49000001 (best 0.52999997)\n",
            "In epoch 1555, loss: 0.68485570, val acc: 0.56999999 (best 0.60000002), test acc: 0.49000001 (best 0.52999997)\n",
            "In epoch 1560, loss: 0.68484789, val acc: 0.56999999 (best 0.60000002), test acc: 0.47999999 (best 0.52999997)\n",
            "In epoch 1565, loss: 0.68483233, val acc: 0.56999999 (best 0.60000002), test acc: 0.47999999 (best 0.52999997)\n",
            "In epoch 1570, loss: 0.68482399, val acc: 0.56999999 (best 0.60000002), test acc: 0.47999999 (best 0.52999997)\n",
            "In epoch 1575, loss: 0.68480790, val acc: 0.56999999 (best 0.60000002), test acc: 0.47999999 (best 0.52999997)\n",
            "In epoch 1580, loss: 0.68480003, val acc: 0.56999999 (best 0.60000002), test acc: 0.47999999 (best 0.52999997)\n",
            "In epoch 1585, loss: 0.68479103, val acc: 0.56000000 (best 0.60000002), test acc: 0.47999999 (best 0.52999997)\n",
            "In epoch 1590, loss: 0.68477893, val acc: 0.56000000 (best 0.60000002), test acc: 0.47999999 (best 0.52999997)\n",
            "In epoch 1595, loss: 0.68476677, val acc: 0.56000000 (best 0.60000002), test acc: 0.47999999 (best 0.52999997)\n",
            "In epoch 1600, loss: 0.68475366, val acc: 0.56000000 (best 0.60000002), test acc: 0.47999999 (best 0.52999997)\n",
            "In epoch 1605, loss: 0.68474054, val acc: 0.56000000 (best 0.60000002), test acc: 0.47999999 (best 0.52999997)\n",
            "In epoch 1610, loss: 0.68472803, val acc: 0.56999999 (best 0.60000002), test acc: 0.47999999 (best 0.52999997)\n",
            "In epoch 1615, loss: 0.68471450, val acc: 0.56999999 (best 0.60000002), test acc: 0.47999999 (best 0.52999997)\n",
            "In epoch 1620, loss: 0.68470573, val acc: 0.56000000 (best 0.60000002), test acc: 0.47999999 (best 0.52999997)\n",
            "In epoch 1625, loss: 0.68468958, val acc: 0.56999999 (best 0.60000002), test acc: 0.47999999 (best 0.52999997)\n",
            "In epoch 1630, loss: 0.68468618, val acc: 0.56000000 (best 0.60000002), test acc: 0.47999999 (best 0.52999997)\n",
            "In epoch 1635, loss: 0.68467200, val acc: 0.56000000 (best 0.60000002), test acc: 0.47999999 (best 0.52999997)\n",
            "In epoch 1640, loss: 0.68464983, val acc: 0.56999999 (best 0.60000002), test acc: 0.47999999 (best 0.52999997)\n",
            "In epoch 1645, loss: 0.68463522, val acc: 0.56000000 (best 0.60000002), test acc: 0.47999999 (best 0.52999997)\n",
            "In epoch 1650, loss: 0.68461972, val acc: 0.56999999 (best 0.60000002), test acc: 0.47999999 (best 0.52999997)\n",
            "In epoch 1655, loss: 0.68463331, val acc: 0.58999997 (best 0.60000002), test acc: 0.51999998 (best 0.52999997)\n",
            "In epoch 1660, loss: 0.68460310, val acc: 0.56000000 (best 0.60000002), test acc: 0.47999999 (best 0.52999997)\n",
            "In epoch 1665, loss: 0.68458945, val acc: 0.56999999 (best 0.60000002), test acc: 0.47999999 (best 0.52999997)\n",
            "In epoch 1670, loss: 0.68458754, val acc: 0.56000000 (best 0.60000002), test acc: 0.47999999 (best 0.52999997)\n",
            "In epoch 1675, loss: 0.68457091, val acc: 0.56000000 (best 0.60000002), test acc: 0.47999999 (best 0.52999997)\n",
            "In epoch 1680, loss: 0.68457609, val acc: 0.58999997 (best 0.60000002), test acc: 0.51999998 (best 0.52999997)\n",
            "In epoch 1685, loss: 0.68454814, val acc: 0.56999999 (best 0.60000002), test acc: 0.47999999 (best 0.52999997)\n",
            "In epoch 1690, loss: 0.68453848, val acc: 0.56999999 (best 0.60000002), test acc: 0.49000001 (best 0.52999997)\n",
            "In epoch 1695, loss: 0.68453580, val acc: 0.58999997 (best 0.60000002), test acc: 0.50999999 (best 0.52999997)\n",
            "In epoch 1700, loss: 0.68451822, val acc: 0.56000000 (best 0.60000002), test acc: 0.47999999 (best 0.52999997)\n",
            "In epoch 1705, loss: 0.68450469, val acc: 0.56000000 (best 0.60000002), test acc: 0.47999999 (best 0.52999997)\n",
            "In epoch 1710, loss: 0.68449384, val acc: 0.56000000 (best 0.60000002), test acc: 0.47999999 (best 0.52999997)\n",
            "In epoch 1715, loss: 0.68448377, val acc: 0.56000000 (best 0.60000002), test acc: 0.47999999 (best 0.52999997)\n",
            "In epoch 1720, loss: 0.68447393, val acc: 0.56000000 (best 0.60000002), test acc: 0.47999999 (best 0.52999997)\n",
            "In epoch 1725, loss: 0.68445879, val acc: 0.56000000 (best 0.60000002), test acc: 0.47999999 (best 0.52999997)\n",
            "In epoch 1730, loss: 0.68445283, val acc: 0.56000000 (best 0.60000002), test acc: 0.47999999 (best 0.52999997)\n",
            "In epoch 1735, loss: 0.68444532, val acc: 0.56000000 (best 0.60000002), test acc: 0.47999999 (best 0.52999997)\n",
            "In epoch 1740, loss: 0.68443298, val acc: 0.56000000 (best 0.60000002), test acc: 0.47999999 (best 0.52999997)\n",
            "In epoch 1745, loss: 0.68442619, val acc: 0.56000000 (best 0.60000002), test acc: 0.47999999 (best 0.52999997)\n",
            "In epoch 1750, loss: 0.68442345, val acc: 0.56000000 (best 0.60000002), test acc: 0.47999999 (best 0.52999997)\n",
            "In epoch 1755, loss: 0.68440545, val acc: 0.56000000 (best 0.60000002), test acc: 0.47999999 (best 0.52999997)\n",
            "In epoch 1760, loss: 0.68440658, val acc: 0.56000000 (best 0.60000002), test acc: 0.47999999 (best 0.52999997)\n",
            "In epoch 1765, loss: 0.68438607, val acc: 0.56999999 (best 0.60000002), test acc: 0.47999999 (best 0.52999997)\n",
            "In epoch 1770, loss: 0.68438202, val acc: 0.56000000 (best 0.60000002), test acc: 0.47999999 (best 0.52999997)\n",
            "In epoch 1775, loss: 0.68436867, val acc: 0.56999999 (best 0.60000002), test acc: 0.47999999 (best 0.52999997)\n",
            "In epoch 1780, loss: 0.68436027, val acc: 0.56999999 (best 0.60000002), test acc: 0.47999999 (best 0.52999997)\n",
            "In epoch 1785, loss: 0.68435061, val acc: 0.56999999 (best 0.60000002), test acc: 0.47999999 (best 0.52999997)\n",
            "In epoch 1790, loss: 0.68434197, val acc: 0.56999999 (best 0.60000002), test acc: 0.47999999 (best 0.52999997)\n",
            "In epoch 1795, loss: 0.68433660, val acc: 0.57999998 (best 0.60000002), test acc: 0.50000000 (best 0.52999997)\n",
            "In epoch 1800, loss: 0.68432695, val acc: 0.56999999 (best 0.60000002), test acc: 0.47999999 (best 0.52999997)\n",
            "In epoch 1805, loss: 0.68431771, val acc: 0.56999999 (best 0.60000002), test acc: 0.49000001 (best 0.52999997)\n",
            "In epoch 1810, loss: 0.68430811, val acc: 0.56999999 (best 0.60000002), test acc: 0.47999999 (best 0.52999997)\n",
            "In epoch 1815, loss: 0.68429941, val acc: 0.56999999 (best 0.60000002), test acc: 0.47999999 (best 0.52999997)\n",
            "In epoch 1820, loss: 0.68428993, val acc: 0.56999999 (best 0.60000002), test acc: 0.47999999 (best 0.52999997)\n",
            "In epoch 1825, loss: 0.68428212, val acc: 0.56999999 (best 0.60000002), test acc: 0.47999999 (best 0.52999997)\n",
            "In epoch 1830, loss: 0.68427277, val acc: 0.56999999 (best 0.60000002), test acc: 0.47999999 (best 0.52999997)\n",
            "In epoch 1835, loss: 0.68426514, val acc: 0.56999999 (best 0.60000002), test acc: 0.47999999 (best 0.52999997)\n",
            "In epoch 1840, loss: 0.68426019, val acc: 0.56999999 (best 0.60000002), test acc: 0.50000000 (best 0.52999997)\n",
            "In epoch 1845, loss: 0.68425101, val acc: 0.56999999 (best 0.60000002), test acc: 0.50000000 (best 0.52999997)\n",
            "In epoch 1850, loss: 0.68424141, val acc: 0.56999999 (best 0.60000002), test acc: 0.50000000 (best 0.52999997)\n",
            "In epoch 1855, loss: 0.68423301, val acc: 0.56999999 (best 0.60000002), test acc: 0.50000000 (best 0.52999997)\n",
            "In epoch 1860, loss: 0.68422246, val acc: 0.56999999 (best 0.60000002), test acc: 0.47999999 (best 0.52999997)\n",
            "In epoch 1865, loss: 0.68421590, val acc: 0.56999999 (best 0.60000002), test acc: 0.50000000 (best 0.52999997)\n",
            "In epoch 1870, loss: 0.68420440, val acc: 0.56999999 (best 0.60000002), test acc: 0.47999999 (best 0.52999997)\n",
            "In epoch 1875, loss: 0.68420064, val acc: 0.56999999 (best 0.60000002), test acc: 0.50000000 (best 0.52999997)\n",
            "In epoch 1880, loss: 0.68419296, val acc: 0.56999999 (best 0.60000002), test acc: 0.50000000 (best 0.52999997)\n",
            "In epoch 1885, loss: 0.68417871, val acc: 0.56999999 (best 0.60000002), test acc: 0.47999999 (best 0.52999997)\n",
            "In epoch 1890, loss: 0.68417925, val acc: 0.56000000 (best 0.60000002), test acc: 0.47999999 (best 0.52999997)\n",
            "In epoch 1895, loss: 0.68416244, val acc: 0.56999999 (best 0.60000002), test acc: 0.47999999 (best 0.52999997)\n",
            "In epoch 1900, loss: 0.68417215, val acc: 0.58999997 (best 0.60000002), test acc: 0.51999998 (best 0.52999997)\n",
            "In epoch 1905, loss: 0.68414414, val acc: 0.56999999 (best 0.60000002), test acc: 0.47999999 (best 0.52999997)\n",
            "In epoch 1910, loss: 0.68413216, val acc: 0.56999999 (best 0.60000002), test acc: 0.47999999 (best 0.52999997)\n",
            "In epoch 1915, loss: 0.68412262, val acc: 0.56999999 (best 0.60000002), test acc: 0.47999999 (best 0.52999997)\n",
            "In epoch 1920, loss: 0.68411392, val acc: 0.56999999 (best 0.60000002), test acc: 0.47999999 (best 0.52999997)\n",
            "In epoch 1925, loss: 0.68410218, val acc: 0.56999999 (best 0.60000002), test acc: 0.47999999 (best 0.52999997)\n",
            "In epoch 1930, loss: 0.68408960, val acc: 0.56999999 (best 0.60000002), test acc: 0.47999999 (best 0.52999997)\n",
            "In epoch 1935, loss: 0.68407977, val acc: 0.56999999 (best 0.60000002), test acc: 0.47999999 (best 0.52999997)\n",
            "In epoch 1940, loss: 0.68406975, val acc: 0.56999999 (best 0.60000002), test acc: 0.47999999 (best 0.52999997)\n",
            "In epoch 1945, loss: 0.68406624, val acc: 0.56999999 (best 0.60000002), test acc: 0.50000000 (best 0.52999997)\n",
            "In epoch 1950, loss: 0.68405312, val acc: 0.56999999 (best 0.60000002), test acc: 0.47999999 (best 0.52999997)\n",
            "In epoch 1955, loss: 0.68405336, val acc: 0.55000001 (best 0.60000002), test acc: 0.47999999 (best 0.52999997)\n",
            "In epoch 1960, loss: 0.68403959, val acc: 0.56999999 (best 0.60000002), test acc: 0.47999999 (best 0.52999997)\n",
            "In epoch 1965, loss: 0.68404663, val acc: 0.57999998 (best 0.60000002), test acc: 0.51999998 (best 0.52999997)\n",
            "In epoch 1970, loss: 0.68402183, val acc: 0.56999999 (best 0.60000002), test acc: 0.47999999 (best 0.52999997)\n",
            "In epoch 1975, loss: 0.68401456, val acc: 0.56999999 (best 0.60000002), test acc: 0.50000000 (best 0.52999997)\n",
            "In epoch 1980, loss: 0.68400687, val acc: 0.56999999 (best 0.60000002), test acc: 0.47999999 (best 0.52999997)\n",
            "In epoch 1985, loss: 0.68399841, val acc: 0.56999999 (best 0.60000002), test acc: 0.50000000 (best 0.52999997)\n",
            "In epoch 1990, loss: 0.68399549, val acc: 0.56999999 (best 0.60000002), test acc: 0.50000000 (best 0.52999997)\n",
            "In epoch 1995, loss: 0.68398303, val acc: 0.56999999 (best 0.60000002), test acc: 0.50000000 (best 0.52999997)\n",
            "In epoch 2000, loss: 0.68398124, val acc: 0.56999999 (best 0.60000002), test acc: 0.50999999 (best 0.52999997)\n",
            "In epoch 2005, loss: 0.68397582, val acc: 0.56999999 (best 0.60000002), test acc: 0.50999999 (best 0.52999997)\n",
            "In epoch 2010, loss: 0.68396628, val acc: 0.56999999 (best 0.60000002), test acc: 0.50999999 (best 0.52999997)\n",
            "In epoch 2015, loss: 0.68395674, val acc: 0.56999999 (best 0.60000002), test acc: 0.50999999 (best 0.52999997)\n",
            "In epoch 2020, loss: 0.68394935, val acc: 0.56999999 (best 0.60000002), test acc: 0.50999999 (best 0.52999997)\n",
            "In epoch 2025, loss: 0.68394524, val acc: 0.56999999 (best 0.60000002), test acc: 0.50999999 (best 0.52999997)\n",
            "In epoch 2030, loss: 0.68393004, val acc: 0.56999999 (best 0.60000002), test acc: 0.49000001 (best 0.52999997)\n",
            "In epoch 2035, loss: 0.68392491, val acc: 0.56999999 (best 0.60000002), test acc: 0.50999999 (best 0.52999997)\n",
            "In epoch 2040, loss: 0.68391609, val acc: 0.56999999 (best 0.60000002), test acc: 0.50999999 (best 0.52999997)\n",
            "In epoch 2045, loss: 0.68391424, val acc: 0.56999999 (best 0.60000002), test acc: 0.50999999 (best 0.52999997)\n",
            "In epoch 2050, loss: 0.68389994, val acc: 0.56999999 (best 0.60000002), test acc: 0.50000000 (best 0.52999997)\n",
            "In epoch 2055, loss: 0.68390405, val acc: 0.57999998 (best 0.60000002), test acc: 0.50999999 (best 0.52999997)\n",
            "In epoch 2060, loss: 0.68388098, val acc: 0.56999999 (best 0.60000002), test acc: 0.50000000 (best 0.52999997)\n",
            "In epoch 2065, loss: 0.68387413, val acc: 0.56999999 (best 0.60000002), test acc: 0.50000000 (best 0.52999997)\n",
            "In epoch 2070, loss: 0.68387979, val acc: 0.57999998 (best 0.60000002), test acc: 0.50999999 (best 0.52999997)\n",
            "In epoch 2075, loss: 0.68385971, val acc: 0.56000000 (best 0.60000002), test acc: 0.47999999 (best 0.52999997)\n",
            "In epoch 2080, loss: 0.68385017, val acc: 0.56999999 (best 0.60000002), test acc: 0.50000000 (best 0.52999997)\n",
            "In epoch 2085, loss: 0.68384308, val acc: 0.56000000 (best 0.60000002), test acc: 0.47999999 (best 0.52999997)\n",
            "In epoch 2090, loss: 0.68383729, val acc: 0.56000000 (best 0.60000002), test acc: 0.47999999 (best 0.52999997)\n",
            "In epoch 2095, loss: 0.68383104, val acc: 0.56000000 (best 0.60000002), test acc: 0.47999999 (best 0.52999997)\n",
            "In epoch 2100, loss: 0.68381971, val acc: 0.56000000 (best 0.60000002), test acc: 0.50000000 (best 0.52999997)\n",
            "In epoch 2105, loss: 0.68381822, val acc: 0.56999999 (best 0.60000002), test acc: 0.47999999 (best 0.52999997)\n",
            "In epoch 2110, loss: 0.68381196, val acc: 0.56000000 (best 0.60000002), test acc: 0.47999999 (best 0.52999997)\n",
            "In epoch 2115, loss: 0.68380255, val acc: 0.56999999 (best 0.60000002), test acc: 0.47999999 (best 0.52999997)\n",
            "In epoch 2120, loss: 0.68379503, val acc: 0.56999999 (best 0.60000002), test acc: 0.47999999 (best 0.52999997)\n",
            "In epoch 2125, loss: 0.68378258, val acc: 0.56000000 (best 0.60000002), test acc: 0.47999999 (best 0.52999997)\n",
            "In epoch 2130, loss: 0.68377870, val acc: 0.56999999 (best 0.60000002), test acc: 0.47999999 (best 0.52999997)\n",
            "In epoch 2135, loss: 0.68377393, val acc: 0.56000000 (best 0.60000002), test acc: 0.47999999 (best 0.52999997)\n",
            "In epoch 2140, loss: 0.68376613, val acc: 0.56000000 (best 0.60000002), test acc: 0.47999999 (best 0.52999997)\n",
            "In epoch 2145, loss: 0.68375689, val acc: 0.56000000 (best 0.60000002), test acc: 0.47999999 (best 0.52999997)\n",
            "In epoch 2150, loss: 0.68374854, val acc: 0.56000000 (best 0.60000002), test acc: 0.47999999 (best 0.52999997)\n",
            "In epoch 2155, loss: 0.68373877, val acc: 0.56999999 (best 0.60000002), test acc: 0.47999999 (best 0.52999997)\n",
            "In epoch 2160, loss: 0.68372953, val acc: 0.56999999 (best 0.60000002), test acc: 0.47999999 (best 0.52999997)\n",
            "In epoch 2165, loss: 0.68371934, val acc: 0.56999999 (best 0.60000002), test acc: 0.47999999 (best 0.52999997)\n",
            "In epoch 2170, loss: 0.68370700, val acc: 0.56999999 (best 0.60000002), test acc: 0.47999999 (best 0.52999997)\n",
            "In epoch 2175, loss: 0.68369949, val acc: 0.56999999 (best 0.60000002), test acc: 0.47999999 (best 0.52999997)\n",
            "In epoch 2180, loss: 0.68368882, val acc: 0.56999999 (best 0.60000002), test acc: 0.47999999 (best 0.52999997)\n",
            "In epoch 2185, loss: 0.68369502, val acc: 0.57999998 (best 0.60000002), test acc: 0.50999999 (best 0.52999997)\n",
            "In epoch 2190, loss: 0.68366838, val acc: 0.56999999 (best 0.60000002), test acc: 0.50000000 (best 0.52999997)\n",
            "In epoch 2195, loss: 0.68365800, val acc: 0.57999998 (best 0.60000002), test acc: 0.50999999 (best 0.52999997)\n",
            "In epoch 2200, loss: 0.68364799, val acc: 0.57999998 (best 0.60000002), test acc: 0.50000000 (best 0.52999997)\n",
            "In epoch 2205, loss: 0.68363881, val acc: 0.56999999 (best 0.60000002), test acc: 0.50000000 (best 0.52999997)\n",
            "In epoch 2210, loss: 0.68363017, val acc: 0.56999999 (best 0.60000002), test acc: 0.50000000 (best 0.52999997)\n",
            "In epoch 2215, loss: 0.68362021, val acc: 0.56999999 (best 0.60000002), test acc: 0.50000000 (best 0.52999997)\n",
            "In epoch 2220, loss: 0.68361086, val acc: 0.56999999 (best 0.60000002), test acc: 0.50999999 (best 0.52999997)\n",
            "In epoch 2225, loss: 0.68359673, val acc: 0.56999999 (best 0.60000002), test acc: 0.50000000 (best 0.52999997)\n",
            "In epoch 2230, loss: 0.68359667, val acc: 0.57999998 (best 0.60000002), test acc: 0.50999999 (best 0.52999997)\n",
            "In epoch 2235, loss: 0.68357378, val acc: 0.57999998 (best 0.60000002), test acc: 0.50000000 (best 0.52999997)\n",
            "In epoch 2240, loss: 0.68357188, val acc: 0.57999998 (best 0.60000002), test acc: 0.50999999 (best 0.52999997)\n",
            "In epoch 2245, loss: 0.68355525, val acc: 0.56999999 (best 0.60000002), test acc: 0.50000000 (best 0.52999997)\n",
            "In epoch 2250, loss: 0.68354613, val acc: 0.56999999 (best 0.60000002), test acc: 0.50999999 (best 0.52999997)\n",
            "In epoch 2255, loss: 0.68353629, val acc: 0.57999998 (best 0.60000002), test acc: 0.50999999 (best 0.52999997)\n",
            "In epoch 2260, loss: 0.68353295, val acc: 0.57999998 (best 0.60000002), test acc: 0.50999999 (best 0.52999997)\n",
            "In epoch 2265, loss: 0.68352133, val acc: 0.56999999 (best 0.60000002), test acc: 0.47000000 (best 0.52999997)\n",
            "In epoch 2270, loss: 0.68350601, val acc: 0.57999998 (best 0.60000002), test acc: 0.50000000 (best 0.52999997)\n",
            "In epoch 2275, loss: 0.68350416, val acc: 0.57999998 (best 0.60000002), test acc: 0.50999999 (best 0.52999997)\n",
            "In epoch 2280, loss: 0.68348712, val acc: 0.57999998 (best 0.60000002), test acc: 0.50000000 (best 0.52999997)\n",
            "In epoch 2285, loss: 0.68347883, val acc: 0.56999999 (best 0.60000002), test acc: 0.47000000 (best 0.52999997)\n",
            "In epoch 2290, loss: 0.68346643, val acc: 0.57999998 (best 0.60000002), test acc: 0.50000000 (best 0.52999997)\n",
            "In epoch 2295, loss: 0.68346000, val acc: 0.57999998 (best 0.60000002), test acc: 0.50000000 (best 0.52999997)\n",
            "In epoch 2300, loss: 0.68344718, val acc: 0.57999998 (best 0.60000002), test acc: 0.50000000 (best 0.52999997)\n",
            "In epoch 2305, loss: 0.68344218, val acc: 0.57999998 (best 0.60000002), test acc: 0.50000000 (best 0.52999997)\n",
            "In epoch 2310, loss: 0.68342829, val acc: 0.56999999 (best 0.60000002), test acc: 0.49000001 (best 0.52999997)\n",
            "In epoch 2315, loss: 0.68342751, val acc: 0.58999997 (best 0.60000002), test acc: 0.50000000 (best 0.52999997)\n",
            "In epoch 2320, loss: 0.68341273, val acc: 0.56999999 (best 0.60000002), test acc: 0.49000001 (best 0.52999997)\n",
            "In epoch 2325, loss: 0.68340755, val acc: 0.57999998 (best 0.60000002), test acc: 0.50000000 (best 0.52999997)\n",
            "In epoch 2330, loss: 0.68339670, val acc: 0.56999999 (best 0.60000002), test acc: 0.49000001 (best 0.52999997)\n",
            "In epoch 2335, loss: 0.68338853, val acc: 0.56999999 (best 0.60000002), test acc: 0.49000001 (best 0.52999997)\n",
            "In epoch 2340, loss: 0.68338209, val acc: 0.56999999 (best 0.60000002), test acc: 0.47999999 (best 0.52999997)\n",
            "In epoch 2345, loss: 0.68337387, val acc: 0.56999999 (best 0.60000002), test acc: 0.49000001 (best 0.52999997)\n",
            "In epoch 2350, loss: 0.68336540, val acc: 0.56999999 (best 0.60000002), test acc: 0.50000000 (best 0.52999997)\n",
            "In epoch 2355, loss: 0.68335915, val acc: 0.56999999 (best 0.60000002), test acc: 0.49000001 (best 0.52999997)\n",
            "In epoch 2360, loss: 0.68335092, val acc: 0.56999999 (best 0.60000002), test acc: 0.49000001 (best 0.52999997)\n",
            "In epoch 2365, loss: 0.68334663, val acc: 0.57999998 (best 0.60000002), test acc: 0.49000001 (best 0.52999997)\n",
            "In epoch 2370, loss: 0.68334144, val acc: 0.56999999 (best 0.60000002), test acc: 0.47999999 (best 0.52999997)\n",
            "In epoch 2375, loss: 0.68332934, val acc: 0.56999999 (best 0.60000002), test acc: 0.50000000 (best 0.52999997)\n",
            "In epoch 2380, loss: 0.68333346, val acc: 0.56999999 (best 0.60000002), test acc: 0.47999999 (best 0.52999997)\n",
            "In epoch 2385, loss: 0.68331552, val acc: 0.56999999 (best 0.60000002), test acc: 0.50000000 (best 0.52999997)\n",
            "In epoch 2390, loss: 0.68331230, val acc: 0.56999999 (best 0.60000002), test acc: 0.47999999 (best 0.52999997)\n",
            "In epoch 2395, loss: 0.68330222, val acc: 0.56999999 (best 0.60000002), test acc: 0.49000001 (best 0.52999997)\n",
            "In epoch 2400, loss: 0.68329567, val acc: 0.56999999 (best 0.60000002), test acc: 0.49000001 (best 0.52999997)\n",
            "In epoch 2405, loss: 0.68328738, val acc: 0.56999999 (best 0.60000002), test acc: 0.49000001 (best 0.52999997)\n",
            "In epoch 2410, loss: 0.68328226, val acc: 0.57999998 (best 0.60000002), test acc: 0.49000001 (best 0.52999997)\n",
            "In epoch 2415, loss: 0.68327820, val acc: 0.57999998 (best 0.60000002), test acc: 0.50000000 (best 0.52999997)\n",
            "In epoch 2420, loss: 0.68327165, val acc: 0.57999998 (best 0.60000002), test acc: 0.50000000 (best 0.52999997)\n",
            "In epoch 2425, loss: 0.68326032, val acc: 0.56999999 (best 0.60000002), test acc: 0.49000001 (best 0.52999997)\n",
            "In epoch 2430, loss: 0.68325877, val acc: 0.57999998 (best 0.60000002), test acc: 0.50000000 (best 0.52999997)\n",
            "In epoch 2435, loss: 0.68325406, val acc: 0.57999998 (best 0.60000002), test acc: 0.50000000 (best 0.52999997)\n",
            "In epoch 2440, loss: 0.68324399, val acc: 0.57999998 (best 0.60000002), test acc: 0.50000000 (best 0.52999997)\n",
            "In epoch 2445, loss: 0.68324369, val acc: 0.57999998 (best 0.60000002), test acc: 0.50000000 (best 0.52999997)\n",
            "In epoch 2450, loss: 0.68322593, val acc: 0.56999999 (best 0.60000002), test acc: 0.49000001 (best 0.52999997)\n",
            "In epoch 2455, loss: 0.68322152, val acc: 0.57999998 (best 0.60000002), test acc: 0.50000000 (best 0.52999997)\n",
            "In epoch 2460, loss: 0.68321264, val acc: 0.57999998 (best 0.60000002), test acc: 0.49000001 (best 0.52999997)\n",
            "In epoch 2465, loss: 0.68321383, val acc: 0.57999998 (best 0.60000002), test acc: 0.50000000 (best 0.52999997)\n",
            "In epoch 2470, loss: 0.68319643, val acc: 0.56999999 (best 0.60000002), test acc: 0.49000001 (best 0.52999997)\n",
            "In epoch 2475, loss: 0.68319285, val acc: 0.57999998 (best 0.60000002), test acc: 0.49000001 (best 0.52999997)\n",
            "In epoch 2480, loss: 0.68318284, val acc: 0.56999999 (best 0.60000002), test acc: 0.50999999 (best 0.52999997)\n",
            "In epoch 2485, loss: 0.68317604, val acc: 0.56999999 (best 0.60000002), test acc: 0.50999999 (best 0.52999997)\n",
            "In epoch 2490, loss: 0.68316787, val acc: 0.56999999 (best 0.60000002), test acc: 0.50000000 (best 0.52999997)\n",
            "In epoch 2495, loss: 0.68316156, val acc: 0.56999999 (best 0.60000002), test acc: 0.50999999 (best 0.52999997)\n",
            "In epoch 2500, loss: 0.68315595, val acc: 0.56999999 (best 0.60000002), test acc: 0.50000000 (best 0.52999997)\n",
            "In epoch 2505, loss: 0.68315208, val acc: 0.56999999 (best 0.60000002), test acc: 0.50000000 (best 0.52999997)\n",
            "In epoch 2510, loss: 0.68314058, val acc: 0.56999999 (best 0.60000002), test acc: 0.50999999 (best 0.52999997)\n",
            "In epoch 2515, loss: 0.68314099, val acc: 0.56999999 (best 0.60000002), test acc: 0.47999999 (best 0.52999997)\n",
            "In epoch 2520, loss: 0.68313408, val acc: 0.56999999 (best 0.60000002), test acc: 0.47999999 (best 0.52999997)\n",
            "In epoch 2525, loss: 0.68312699, val acc: 0.56999999 (best 0.60000002), test acc: 0.47999999 (best 0.52999997)\n",
            "In epoch 2530, loss: 0.68311715, val acc: 0.56999999 (best 0.60000002), test acc: 0.50000000 (best 0.52999997)\n",
            "In epoch 2535, loss: 0.68312013, val acc: 0.56999999 (best 0.60000002), test acc: 0.47999999 (best 0.52999997)\n",
            "In epoch 2540, loss: 0.68310046, val acc: 0.56999999 (best 0.60000002), test acc: 0.50999999 (best 0.52999997)\n",
            "In epoch 2545, loss: 0.68310440, val acc: 0.56999999 (best 0.60000002), test acc: 0.47999999 (best 0.52999997)\n",
            "In epoch 2550, loss: 0.68308556, val acc: 0.56999999 (best 0.60000002), test acc: 0.50000000 (best 0.52999997)\n",
            "In epoch 2555, loss: 0.68307853, val acc: 0.56999999 (best 0.60000002), test acc: 0.50000000 (best 0.52999997)\n",
            "In epoch 2560, loss: 0.68307161, val acc: 0.56999999 (best 0.60000002), test acc: 0.50000000 (best 0.52999997)\n",
            "In epoch 2565, loss: 0.68306470, val acc: 0.56999999 (best 0.60000002), test acc: 0.50000000 (best 0.52999997)\n",
            "In epoch 2570, loss: 0.68305969, val acc: 0.56999999 (best 0.60000002), test acc: 0.49000001 (best 0.52999997)\n",
            "In epoch 2575, loss: 0.68305504, val acc: 0.56000000 (best 0.60000002), test acc: 0.49000001 (best 0.52999997)\n",
            "In epoch 2580, loss: 0.68304449, val acc: 0.56999999 (best 0.60000002), test acc: 0.49000001 (best 0.52999997)\n",
            "In epoch 2585, loss: 0.68304247, val acc: 0.56999999 (best 0.60000002), test acc: 0.49000001 (best 0.52999997)\n",
            "In epoch 2590, loss: 0.68303728, val acc: 0.56999999 (best 0.60000002), test acc: 0.50000000 (best 0.52999997)\n",
            "In epoch 2595, loss: 0.68302566, val acc: 0.56999999 (best 0.60000002), test acc: 0.49000001 (best 0.52999997)\n",
            "In epoch 2600, loss: 0.68302292, val acc: 0.56999999 (best 0.60000002), test acc: 0.49000001 (best 0.52999997)\n",
            "In epoch 2605, loss: 0.68301600, val acc: 0.56999999 (best 0.60000002), test acc: 0.49000001 (best 0.52999997)\n",
            "In epoch 2610, loss: 0.68301833, val acc: 0.57999998 (best 0.60000002), test acc: 0.50999999 (best 0.52999997)\n",
            "In epoch 2615, loss: 0.68299806, val acc: 0.56999999 (best 0.60000002), test acc: 0.49000001 (best 0.52999997)\n",
            "In epoch 2620, loss: 0.68299598, val acc: 0.56999999 (best 0.60000002), test acc: 0.49000001 (best 0.52999997)\n",
            "In epoch 2625, loss: 0.68298358, val acc: 0.56999999 (best 0.60000002), test acc: 0.49000001 (best 0.52999997)\n",
            "In epoch 2630, loss: 0.68298483, val acc: 0.56999999 (best 0.60000002), test acc: 0.50000000 (best 0.52999997)\n",
            "In epoch 2635, loss: 0.68297160, val acc: 0.56999999 (best 0.60000002), test acc: 0.50999999 (best 0.52999997)\n",
            "In epoch 2640, loss: 0.68296248, val acc: 0.56999999 (best 0.60000002), test acc: 0.50999999 (best 0.52999997)\n",
            "In epoch 2645, loss: 0.68295592, val acc: 0.56999999 (best 0.60000002), test acc: 0.50999999 (best 0.52999997)\n",
            "In epoch 2650, loss: 0.68295348, val acc: 0.56999999 (best 0.60000002), test acc: 0.50999999 (best 0.52999997)\n",
            "In epoch 2655, loss: 0.68294477, val acc: 0.56999999 (best 0.60000002), test acc: 0.50999999 (best 0.52999997)\n",
            "In epoch 2660, loss: 0.68294001, val acc: 0.56999999 (best 0.60000002), test acc: 0.50999999 (best 0.52999997)\n",
            "In epoch 2665, loss: 0.68292898, val acc: 0.56999999 (best 0.60000002), test acc: 0.50999999 (best 0.52999997)\n",
            "In epoch 2670, loss: 0.68292969, val acc: 0.56999999 (best 0.60000002), test acc: 0.50000000 (best 0.52999997)\n",
            "In epoch 2675, loss: 0.68292290, val acc: 0.56999999 (best 0.60000002), test acc: 0.50000000 (best 0.52999997)\n",
            "In epoch 2680, loss: 0.68291312, val acc: 0.56999999 (best 0.60000002), test acc: 0.50999999 (best 0.52999997)\n",
            "In epoch 2685, loss: 0.68290663, val acc: 0.56999999 (best 0.60000002), test acc: 0.50999999 (best 0.52999997)\n",
            "In epoch 2690, loss: 0.68290621, val acc: 0.56999999 (best 0.60000002), test acc: 0.50000000 (best 0.52999997)\n",
            "In epoch 2695, loss: 0.68289262, val acc: 0.56999999 (best 0.60000002), test acc: 0.50999999 (best 0.52999997)\n",
            "In epoch 2700, loss: 0.68289602, val acc: 0.56999999 (best 0.60000002), test acc: 0.49000001 (best 0.52999997)\n",
            "In epoch 2705, loss: 0.68287516, val acc: 0.56999999 (best 0.60000002), test acc: 0.50999999 (best 0.52999997)\n",
            "In epoch 2710, loss: 0.68286932, val acc: 0.56999999 (best 0.60000002), test acc: 0.50999999 (best 0.52999997)\n",
            "In epoch 2715, loss: 0.68286985, val acc: 0.56999999 (best 0.60000002), test acc: 0.50000000 (best 0.52999997)\n",
            "In epoch 2720, loss: 0.68285578, val acc: 0.56000000 (best 0.60000002), test acc: 0.50000000 (best 0.52999997)\n",
            "In epoch 2725, loss: 0.68284899, val acc: 0.56000000 (best 0.60000002), test acc: 0.50000000 (best 0.52999997)\n",
            "In epoch 2730, loss: 0.68284178, val acc: 0.56999999 (best 0.60000002), test acc: 0.50999999 (best 0.52999997)\n",
            "In epoch 2735, loss: 0.68283516, val acc: 0.56999999 (best 0.60000002), test acc: 0.50000000 (best 0.52999997)\n",
            "In epoch 2740, loss: 0.68282861, val acc: 0.56999999 (best 0.60000002), test acc: 0.50999999 (best 0.52999997)\n",
            "In epoch 2745, loss: 0.68282205, val acc: 0.56999999 (best 0.60000002), test acc: 0.50999999 (best 0.52999997)\n",
            "In epoch 2750, loss: 0.68281996, val acc: 0.56000000 (best 0.60000002), test acc: 0.49000001 (best 0.52999997)\n",
            "In epoch 2755, loss: 0.68280923, val acc: 0.56000000 (best 0.60000002), test acc: 0.50000000 (best 0.52999997)\n",
            "In epoch 2760, loss: 0.68280876, val acc: 0.56000000 (best 0.60000002), test acc: 0.49000001 (best 0.52999997)\n",
            "In epoch 2765, loss: 0.68280435, val acc: 0.56000000 (best 0.60000002), test acc: 0.49000001 (best 0.52999997)\n",
            "In epoch 2770, loss: 0.68279618, val acc: 0.56000000 (best 0.60000002), test acc: 0.49000001 (best 0.52999997)\n",
            "In epoch 2775, loss: 0.68278939, val acc: 0.56000000 (best 0.60000002), test acc: 0.49000001 (best 0.52999997)\n",
            "In epoch 2780, loss: 0.68278003, val acc: 0.56000000 (best 0.60000002), test acc: 0.49000001 (best 0.52999997)\n",
            "In epoch 2785, loss: 0.68277681, val acc: 0.56000000 (best 0.60000002), test acc: 0.49000001 (best 0.52999997)\n",
            "In epoch 2790, loss: 0.68276703, val acc: 0.56000000 (best 0.60000002), test acc: 0.49000001 (best 0.52999997)\n",
            "In epoch 2795, loss: 0.68276155, val acc: 0.56000000 (best 0.60000002), test acc: 0.49000001 (best 0.52999997)\n",
            "In epoch 2800, loss: 0.68275625, val acc: 0.56000000 (best 0.60000002), test acc: 0.49000001 (best 0.52999997)\n",
            "In epoch 2805, loss: 0.68275678, val acc: 0.57999998 (best 0.60000002), test acc: 0.50000000 (best 0.52999997)\n",
            "In epoch 2810, loss: 0.68274099, val acc: 0.56000000 (best 0.60000002), test acc: 0.50000000 (best 0.52999997)\n",
            "In epoch 2815, loss: 0.68275309, val acc: 0.57999998 (best 0.60000002), test acc: 0.50999999 (best 0.52999997)\n",
            "In epoch 2820, loss: 0.68272620, val acc: 0.56999999 (best 0.60000002), test acc: 0.50999999 (best 0.52999997)\n",
            "In epoch 2825, loss: 0.68271947, val acc: 0.56000000 (best 0.60000002), test acc: 0.50000000 (best 0.52999997)\n",
            "In epoch 2830, loss: 0.68273568, val acc: 0.56999999 (best 0.60000002), test acc: 0.49000001 (best 0.52999997)\n",
            "In epoch 2835, loss: 0.68271178, val acc: 0.56000000 (best 0.60000002), test acc: 0.49000001 (best 0.52999997)\n",
            "In epoch 2840, loss: 0.68270361, val acc: 0.56000000 (best 0.60000002), test acc: 0.50000000 (best 0.52999997)\n",
            "In epoch 2845, loss: 0.68269819, val acc: 0.56000000 (best 0.60000002), test acc: 0.50000000 (best 0.52999997)\n",
            "In epoch 2850, loss: 0.68269330, val acc: 0.56000000 (best 0.60000002), test acc: 0.49000001 (best 0.52999997)\n",
            "In epoch 2855, loss: 0.68269521, val acc: 0.57999998 (best 0.60000002), test acc: 0.50000000 (best 0.52999997)\n",
            "In epoch 2860, loss: 0.68267769, val acc: 0.56000000 (best 0.60000002), test acc: 0.50000000 (best 0.52999997)\n",
            "In epoch 2865, loss: 0.68268853, val acc: 0.57999998 (best 0.60000002), test acc: 0.50999999 (best 0.52999997)\n",
            "In epoch 2870, loss: 0.68266261, val acc: 0.56000000 (best 0.60000002), test acc: 0.50999999 (best 0.52999997)\n",
            "In epoch 2875, loss: 0.68265676, val acc: 0.56000000 (best 0.60000002), test acc: 0.50000000 (best 0.52999997)\n",
            "In epoch 2880, loss: 0.68266326, val acc: 0.57999998 (best 0.60000002), test acc: 0.50000000 (best 0.52999997)\n",
            "In epoch 2885, loss: 0.68264669, val acc: 0.56000000 (best 0.60000002), test acc: 0.50000000 (best 0.52999997)\n",
            "In epoch 2890, loss: 0.68263757, val acc: 0.56000000 (best 0.60000002), test acc: 0.50999999 (best 0.52999997)\n",
            "In epoch 2895, loss: 0.68263191, val acc: 0.56999999 (best 0.60000002), test acc: 0.50999999 (best 0.52999997)\n",
            "In epoch 2900, loss: 0.68263030, val acc: 0.56999999 (best 0.60000002), test acc: 0.50999999 (best 0.52999997)\n",
            "In epoch 2905, loss: 0.68261862, val acc: 0.56000000 (best 0.60000002), test acc: 0.50000000 (best 0.52999997)\n",
            "In epoch 2910, loss: 0.68262029, val acc: 0.56000000 (best 0.60000002), test acc: 0.50000000 (best 0.52999997)\n",
            "In epoch 2915, loss: 0.68260908, val acc: 0.56000000 (best 0.60000002), test acc: 0.50000000 (best 0.52999997)\n",
            "In epoch 2920, loss: 0.68260175, val acc: 0.56000000 (best 0.60000002), test acc: 0.50000000 (best 0.52999997)\n",
            "In epoch 2925, loss: 0.68259454, val acc: 0.56000000 (best 0.60000002), test acc: 0.50000000 (best 0.52999997)\n",
            "In epoch 2930, loss: 0.68258798, val acc: 0.56000000 (best 0.60000002), test acc: 0.50999999 (best 0.52999997)\n",
            "In epoch 2935, loss: 0.68258595, val acc: 0.56999999 (best 0.60000002), test acc: 0.50999999 (best 0.52999997)\n",
            "In epoch 2940, loss: 0.68258131, val acc: 0.57999998 (best 0.60000002), test acc: 0.50999999 (best 0.52999997)\n",
            "In epoch 2945, loss: 0.68257594, val acc: 0.57999998 (best 0.60000002), test acc: 0.50999999 (best 0.52999997)\n",
            "In epoch 2950, loss: 0.68256599, val acc: 0.56999999 (best 0.60000002), test acc: 0.50999999 (best 0.52999997)\n",
            "In epoch 2955, loss: 0.68256289, val acc: 0.57999998 (best 0.60000002), test acc: 0.50999999 (best 0.52999997)\n",
            "In epoch 2960, loss: 0.68255854, val acc: 0.57999998 (best 0.60000002), test acc: 0.50999999 (best 0.52999997)\n",
            "In epoch 2965, loss: 0.68255532, val acc: 0.57999998 (best 0.60000002), test acc: 0.50999999 (best 0.52999997)\n",
            "In epoch 2970, loss: 0.68254614, val acc: 0.57999998 (best 0.60000002), test acc: 0.50999999 (best 0.52999997)\n",
            "In epoch 2975, loss: 0.68254542, val acc: 0.57999998 (best 0.60000002), test acc: 0.50999999 (best 0.52999997)\n",
            "In epoch 2980, loss: 0.68253052, val acc: 0.57999998 (best 0.60000002), test acc: 0.50999999 (best 0.52999997)\n",
            "In epoch 2985, loss: 0.68253708, val acc: 0.57999998 (best 0.60000002), test acc: 0.50000000 (best 0.52999997)\n",
            "In epoch 2990, loss: 0.68251467, val acc: 0.56000000 (best 0.60000002), test acc: 0.50000000 (best 0.52999997)\n",
            "In epoch 2995, loss: 0.68250936, val acc: 0.56999999 (best 0.60000002), test acc: 0.50999999 (best 0.52999997)\n"
          ]
        }
      ]
    },
    {
      "cell_type": "code",
      "source": [
        "plt.plot(node_class_accs['train'], label='Train accuracy')\n",
        "plt.plot(node_class_accs['val'], label='Validation accuracy')\n",
        "plt.plot(node_class_accs['test'], label='Test accuracy')\n",
        "plt.title('Train, Validation, and Test accuracies')\n",
        "plt.xlabel('Iteration')\n",
        "plt.ylabel('Accuracy')\n",
        "plt.legend()\n",
        "plt.show()"
      ],
      "metadata": {
        "colab": {
          "base_uri": "https://localhost:8080/",
          "height": 295
        },
        "id": "koifMdA2BuI7",
        "outputId": "8591f19d-c001-432b-ac3c-b9a38325fead"
      },
      "id": "koifMdA2BuI7",
      "execution_count": null,
      "outputs": [
        {
          "output_type": "display_data",
          "data": {
            "text/plain": [
              "<Figure size 432x288 with 1 Axes>"
            ],
            "image/png": "[encoded data removed]"
          },
          "metadata": {
            "needs_background": "light"
          }
        }
      ]
    },
    {
      "cell_type": "code",
      "source": [
        "logits = node_class_model(node_class_graph, node_class_graph.ndata['feat'])\n",
        "pred = logits.argmax(1)"
      ],
      "metadata": {
        "id": "Nrur6mA5L6Yx"
      },
      "id": "Nrur6mA5L6Yx",
      "execution_count": null,
      "outputs": []
    },
    {
      "cell_type": "code",
      "source": [
        "label = node_class_graph.ndata['label']\n",
        "plt.hist(label.cpu().numpy())\n",
        "plt.title(\"Training set labels\")\n",
        "plt.show()"
      ],
      "metadata": {
        "colab": {
          "base_uri": "https://localhost:8080/",
          "height": 281
        },
        "id": "GGsxhiluYIIf",
        "outputId": "5e66315c-106b-444e-cb7d-77fcecc3cf5c"
      },
      "id": "GGsxhiluYIIf",
      "execution_count": null,
      "outputs": [
        {
          "output_type": "display_data",
          "data": {
            "text/plain": [
              "<Figure size 432x288 with 1 Axes>"
            ],
            "image/png": "[encoded data removed]"
          },
          "metadata": {
            "needs_background": "light"
          }
        }
      ]
    },
    {
      "cell_type": "code",
      "source": [
        "plt.hist(pred.cpu().numpy())\n",
        "plt.title(\"Predicted labels\")\n",
        "plt.show()"
      ],
      "metadata": {
        "colab": {
          "base_uri": "https://localhost:8080/",
          "height": 281
        },
        "id": "ZXwQvdU5YIEN",
        "outputId": "9ae70c43-79ed-4db3-a49b-62ea976d2bb4"
      },
      "id": "ZXwQvdU5YIEN",
      "execution_count": null,
      "outputs": [
        {
          "output_type": "display_data",
          "data": {
            "text/plain": [
              "<Figure size 432x288 with 1 Axes>"
            ],
            "image/png": "[encoded data removed]"
          },
          "metadata": {
            "needs_background": "light"
          }
        }
      ]
    },
    {
      "cell_type": "code",
      "source": [
        "from sklearn.metrics import auc, roc_curve\n",
        "fpr, tpr, _ = roc_curve(label.cpu().numpy(), pred.cpu().numpy())\n",
        "roc_auc = auc(fpr, tpr)\n",
        "plt.figure()\n",
        "plt.plot(fpr, tpr, lw=2, label='ROC curve (area = %0.2f)' % roc_auc)\n",
        "plt.plot([0, 1], [0, 1], lw=2, linestyle='-.')\n",
        "plt.xlim([0, 1])\n",
        "plt.ylim([0, 1])\n",
        "plt.xlabel('False positive rate')\n",
        "plt.ylabel('True positive rate')\n",
        "plt.title('ROC curve on the entire dataset')\n",
        "plt.legend()\n",
        "plt.show()"
      ],
      "metadata": {
        "colab": {
          "base_uri": "https://localhost:8080/",
          "height": 295
        },
        "id": "yUZQHpzLYIL6",
        "outputId": "320f94b2-6cec-43e6-e334-dfcda22e3921"
      },
      "id": "yUZQHpzLYIL6",
      "execution_count": null,
      "outputs": [
        {
          "output_type": "display_data",
          "data": {
            "text/plain": [
              "<Figure size 432x288 with 1 Axes>"
            ],
            "image/png": "[encoded data removed]"
          },
          "metadata": {
            "needs_background": "light"
          }
        }
      ]
    },
    {
      "cell_type": "markdown",
      "source": [
        "2. Graph classification:"
      ],
      "metadata": {
        "id": "tEeLE3RDZSkE"
      },
      "id": "tEeLE3RDZSkE"
    },
    {
      "cell_type": "code",
      "source": [
        "class GraphClassificationDataset(dgl.data.DGLDataset):\n",
        "  \"\"\"Process and convert the numpy training data into Graphs\"\"\"\n",
        "  def __init__(self):\n",
        "    super().__init__(name='graph_classification') \n",
        "    self.num_classes = 2\n",
        "    self.dim_nfeats = 4\n",
        "  \n",
        "  def process(self):\n",
        "    self.graphs = []\n",
        "    self.labels = []\n",
        "    num_examples = len(x_train_part1)\n",
        "    num_train = int(num_examples * 0.8)\n",
        "    num_val = int(num_examples * 0.1)\n",
        "    train_mask = torch.zeros(num_examples, dtype=torch.bool)\n",
        "    val_mask = torch.zeros(num_examples, dtype=torch.bool)\n",
        "    test_mask = torch.zeros(num_examples, dtype=torch.bool)\n",
        "    train_mask[:num_train] = True\n",
        "    val_mask[num_train:num_train+num_val] = True\n",
        "    test_mask[num_train+num_val:] = True\n",
        "    self.train_mask = train_mask\n",
        "    self.test_mask = test_mask\n",
        "    self.val_mask = val_mask \n",
        "\n",
        "    for id in range(len(x_train_part1)):\n",
        "      g = dgl.from_networkx(nx.generators.fast_gnp_random_graph(20, p=0.6))\n",
        "      g.ndata['feat'] = torch.from_numpy(np.repeat(x_train_part1[id].reshape(1,4),20,0))\n",
        "      g.ndata['label'] = torch.LongTensor([y_train_part1[id]]*20)\n",
        "      self.graphs.append(g)\n",
        "      self.labels.append(y_train_part1[id])\n",
        "    \n",
        "    self.labels = torch.LongTensor(self.labels)\n",
        "\n",
        "  def __getitem__(self, idx):\n",
        "    return self.graphs[idx], self.labels[idx]\n",
        "\n",
        "  def __len__(self):\n",
        "    return len(self.graphs)\n",
        "\n",
        "graph_class_dataset = GraphClassificationDataset()\n",
        "g_sample, label_sample = graph_class_dataset[0]\n",
        "print(g_sample, label_sample)"
      ],
      "metadata": {
        "colab": {
          "base_uri": "https://localhost:8080/"
        },
        "id": "-KBmWWYKY_Zi",
        "outputId": "383457cb-abc6-4a5d-eaee-ff0ef4bedf22"
      },
      "id": "-KBmWWYKY_Zi",
      "execution_count": null,
      "outputs": [
        {
          "output_type": "stream",
          "name": "stdout",
          "text": [
            "Graph(num_nodes=20, num_edges=230,\n",
            "      ndata_schemes={'feat': Scheme(shape=(4,), dtype=torch.float32), 'label': Scheme(shape=(), dtype=torch.int64)}\n",
            "      edata_schemes={}) tensor(1)\n"
          ]
        }
      ]
    },
    {
      "cell_type": "code",
      "source": [
        "num_examples = len(graph_class_dataset)\n",
        "num_train = int(num_examples * 0.8)\n",
        "num_val = int(num_examples * 0.1)\n",
        "\n",
        "train_sampler = SubsetRandomSampler(torch.arange(num_train))\n",
        "val_sampler = SubsetRandomSampler(torch.arange(num_train, num_train+num_val))\n",
        "test_sampler = SubsetRandomSampler(torch.arange(num_train+num_val, num_examples))\n",
        "\n",
        "train_dataloader = GraphDataLoader(graph_class_dataset, sampler=train_sampler, batch_size=5, drop_last=False)\n",
        "val_dataloader = GraphDataLoader(graph_class_dataset, sampler=val_sampler, batch_size=5, drop_last=False)\n",
        "test_dataloader = GraphDataLoader(graph_class_dataset, sampler=test_sampler, batch_size=5, drop_last=False)\n",
        "\n",
        "iter = iter(train_dataloader)\n",
        "batch = next(iter)\n",
        "print(batch)"
      ],
      "metadata": {
        "colab": {
          "base_uri": "https://localhost:8080/"
        },
        "id": "QD4VnfAtZcAd",
        "outputId": "88878de4-5244-43d7-b4a3-223b43e2ebde"
      },
      "id": "QD4VnfAtZcAd",
      "execution_count": null,
      "outputs": [
        {
          "output_type": "stream",
          "name": "stdout",
          "text": [
            "[Graph(num_nodes=100, num_edges=1148,\n",
            "      ndata_schemes={'feat': Scheme(shape=(4,), dtype=torch.float32), 'label': Scheme(shape=(), dtype=torch.int64)}\n",
            "      edata_schemes={}), tensor([1, 1, 1, 1, 1])]\n"
          ]
        }
      ]
    },
    {
      "cell_type": "code",
      "source": [
        "batched_graph, labels = batch\n",
        "print('Number of nodes for each graph element in the batch:', batched_graph.batch_num_nodes())\n",
        "print('Number of edges for each graph element in the batch:', batched_graph.batch_num_edges())\n",
        "\n",
        "graphs = dgl.unbatch(batched_graph)\n",
        "print('The original graphs in the minibatch:')\n",
        "print(graphs)"
      ],
      "metadata": {
        "colab": {
          "base_uri": "https://localhost:8080/"
        },
        "id": "9bNq9ybeZcGU",
        "outputId": "39a347dd-6df6-4b23-a665-7ca26fc24317"
      },
      "id": "9bNq9ybeZcGU",
      "execution_count": null,
      "outputs": [
        {
          "output_type": "stream",
          "name": "stdout",
          "text": [
            "Number of nodes for each graph element in the batch: tensor([20, 20, 20, 20, 20])\n",
            "Number of edges for each graph element in the batch: tensor([210, 222, 226, 252, 238])\n",
            "The original graphs in the minibatch:\n",
            "[Graph(num_nodes=20, num_edges=210,\n",
            "      ndata_schemes={'feat': Scheme(shape=(4,), dtype=torch.float32), 'label': Scheme(shape=(), dtype=torch.int64)}\n",
            "      edata_schemes={}), Graph(num_nodes=20, num_edges=222,\n",
            "      ndata_schemes={'feat': Scheme(shape=(4,), dtype=torch.float32), 'label': Scheme(shape=(), dtype=torch.int64)}\n",
            "      edata_schemes={}), Graph(num_nodes=20, num_edges=226,\n",
            "      ndata_schemes={'feat': Scheme(shape=(4,), dtype=torch.float32), 'label': Scheme(shape=(), dtype=torch.int64)}\n",
            "      edata_schemes={}), Graph(num_nodes=20, num_edges=252,\n",
            "      ndata_schemes={'feat': Scheme(shape=(4,), dtype=torch.float32), 'label': Scheme(shape=(), dtype=torch.int64)}\n",
            "      edata_schemes={}), Graph(num_nodes=20, num_edges=238,\n",
            "      ndata_schemes={'feat': Scheme(shape=(4,), dtype=torch.float32), 'label': Scheme(shape=(), dtype=torch.int64)}\n",
            "      edata_schemes={})]\n"
          ]
        }
      ]
    },
    {
      "cell_type": "code",
      "source": [
        "class GraphClassificationModel(torch.nn.Module):\n",
        "  \"\"\"Implement and forward pass the GNN\"\"\"\n",
        "  def __init__(self, in_feats, num_classes):\n",
        "    super(GraphClassificationModel, self).__init__()\n",
        "    self.conv1 = GraphConv(in_feats, 16)\n",
        "    self.conv2 = GraphConv(16, 32)\n",
        "    self.conv3 = GraphConv(32, num_classes)\n",
        "\n",
        "  def forward(self, g, in_feat):\n",
        "    h = self.conv1(g, in_feat)\n",
        "    h = torch.nn.functional.relu(h)\n",
        "    h = self.conv2(g, h)\n",
        "    h = torch.nn.functional.relu(h)\n",
        "    h = self.conv3(g, h)\n",
        "    g.ndata['h'] = h\n",
        "    return dgl.mean_nodes(g, 'h')\n",
        "\n",
        "graph_class_model = GraphClassificationModel(graph_class_dataset.dim_nfeats, graph_class_dataset.num_classes)"
      ],
      "metadata": {
        "id": "lRH6xiz8Zccn"
      },
      "id": "lRH6xiz8Zccn",
      "execution_count": null,
      "outputs": []
    },
    {
      "cell_type": "code",
      "source": [
        "def train(train_loader, val_loader, test_loader, model, num_epochs):\n",
        "  \"\"\"Training loop implementation\"\"\"\n",
        "  losses = []\n",
        "  accuracies = {'train':[], 'val': [], 'test': []}\n",
        "  optimizer = torch.optim.Adam(model.parameters(), lr=0.01, betas=(0.9, 0.9999))\n",
        "  best_val_acc = 0.0\n",
        "  best_test_acc = 0.0\n",
        "\n",
        "  for e in range(num_epochs):\n",
        "    train_acc_batch = []\n",
        "    val_acc_batch = []\n",
        "    test_acc_batch = []\n",
        "    train_loss_batch = []\n",
        "    for batched_graph, labels in train_loader:\n",
        "      model.train()\n",
        "      batched_graph, labels = batched_graph.to('cpu'), labels.to('cpu')\n",
        "      logits = model(batched_graph, batched_graph.ndata['feat'].float())\n",
        "      pred = logits.argmax(1)\n",
        "      loss = torch.nn.functional.cross_entropy(logits, labels)\n",
        "      train_loss_batch.append(loss)\n",
        "      train_acc = (pred == labels).float().mean()\n",
        "      train_acc_batch.append(train_acc)\n",
        "      with torch.no_grad():  \n",
        "        optimizer.zero_grad()\n",
        "        loss.backward()\n",
        "        optimizer.step()\n",
        "    accuracies['train'].append(sum(train_acc_batch) / len(train_acc_batch))\n",
        "    losses.append(sum(train_loss_batch) / len(train_loss_batch))\n",
        "\n",
        "    model.eval()\n",
        "    for batched_graph_val, labels_val in val_loader:\n",
        "      batched_graph_val, labels_val = batched_graph_val.to('cpu'), labels_val.to('cpu')\n",
        "      logits_val = model(batched_graph_val, batched_graph_val.ndata['feat'].float())\n",
        "      pred_val = logits_val.argmax(1)\n",
        "      val_acc = (pred_val == labels_val).float().mean()\n",
        "      val_acc_batch.append(val_acc)\n",
        "    accuracies['val'].append(sum(val_acc_batch) / len(val_acc_batch))\n",
        "\n",
        "    for batched_graph_test, labels_test in test_loader:\n",
        "      batched_graph_test, labels_test = batched_graph_test.to('cpu'), labels_test.to('cpu')\n",
        "      logits_test = model(batched_graph_test, batched_graph_test.ndata['feat'].float())\n",
        "      pred_test = logits_test.argmax(1)\n",
        "      test_acc = (pred_test == labels_test).float().mean()\n",
        "      test_acc_batch.append(test_acc)\n",
        "    accuracies['test'].append(sum(test_acc_batch) / len(test_acc_batch))\n",
        "\n",
        "    if best_val_acc < val_acc:\n",
        "      best_val_acc = val_acc\n",
        "      best_test_acc = test_acc\n",
        "\n",
        "    if e % 5 == 0:\n",
        "      print('In epoch {}, loss: {:.8f}, val acc: {:.8f} (best {:.8f}), test acc: {:.8f} (best {:.8f})'.format(\n",
        "                e, loss, val_acc, best_val_acc, test_acc, best_test_acc))\n",
        "  \n",
        "  return losses, accuracies"
      ],
      "metadata": {
        "id": "LfjKtDSEY_cM"
      },
      "id": "LfjKtDSEY_cM",
      "execution_count": null,
      "outputs": []
    },
    {
      "cell_type": "code",
      "source": [
        "graph_class_losses, graph_class_accs = train(train_dataloader, val_dataloader, test_dataloader, graph_class_model, 300)"
      ],
      "metadata": {
        "colab": {
          "base_uri": "https://localhost:8080/"
        },
        "id": "fnFhXhLQYIQU",
        "outputId": "670d711d-e1bd-40d7-9485-fa8bd73baafc"
      },
      "id": "fnFhXhLQYIQU",
      "execution_count": null,
      "outputs": [
        {
          "output_type": "stream",
          "name": "stderr",
          "text": [
            "/usr/local/lib/python3.7/dist-packages/torch/autocast_mode.py:141: UserWarning: User provided device_type of 'cuda', but CUDA is not available. Disabling\n",
            "  warnings.warn('User provided device_type of \\'cuda\\', but CUDA is not available. Disabling')\n"
          ]
        },
        {
          "output_type": "stream",
          "name": "stdout",
          "text": [
            "In epoch 0, loss: 2.27580500, val acc: 0.60000002 (best 0.60000002), test acc: 0.60000002 (best 0.60000002)\n",
            "In epoch 5, loss: 0.71205413, val acc: 0.60000002 (best 0.60000002), test acc: 0.40000001 (best 0.60000002)\n",
            "In epoch 10, loss: 0.70496625, val acc: 0.40000001 (best 0.80000001), test acc: 1.00000000 (best 0.60000002)\n",
            "In epoch 15, loss: 0.68943453, val acc: 0.60000002 (best 0.80000001), test acc: 0.20000000 (best 0.60000002)\n",
            "In epoch 20, loss: 0.71232653, val acc: 0.40000001 (best 0.80000001), test acc: 0.60000002 (best 0.60000002)\n",
            "In epoch 25, loss: 0.68999290, val acc: 0.40000001 (best 0.80000001), test acc: 0.60000002 (best 0.60000002)\n",
            "In epoch 30, loss: 0.70816422, val acc: 0.80000001 (best 0.80000001), test acc: 0.40000001 (best 0.60000002)\n",
            "In epoch 35, loss: 0.75568050, val acc: 0.60000002 (best 0.80000001), test acc: 0.80000001 (best 0.60000002)\n",
            "In epoch 40, loss: 0.68702447, val acc: 0.40000001 (best 1.00000000), test acc: 0.40000001 (best 0.60000002)\n",
            "In epoch 45, loss: 0.72916996, val acc: 0.80000001 (best 1.00000000), test acc: 0.60000002 (best 0.60000002)\n",
            "In epoch 50, loss: 0.69972312, val acc: 0.20000000 (best 1.00000000), test acc: 0.60000002 (best 0.60000002)\n",
            "In epoch 55, loss: 0.66899520, val acc: 0.20000000 (best 1.00000000), test acc: 0.40000001 (best 0.60000002)\n",
            "In epoch 60, loss: 0.68490851, val acc: 0.40000001 (best 1.00000000), test acc: 0.40000001 (best 0.60000002)\n",
            "In epoch 65, loss: 0.72693145, val acc: 0.20000000 (best 1.00000000), test acc: 0.20000000 (best 0.60000002)\n",
            "In epoch 70, loss: 0.68818527, val acc: 0.40000001 (best 1.00000000), test acc: 0.00000000 (best 0.60000002)\n",
            "In epoch 75, loss: 0.69146430, val acc: 0.20000000 (best 1.00000000), test acc: 0.20000000 (best 0.60000002)\n",
            "In epoch 80, loss: 0.68388975, val acc: 0.60000002 (best 1.00000000), test acc: 0.40000001 (best 0.60000002)\n",
            "In epoch 85, loss: 0.66273987, val acc: 0.40000001 (best 1.00000000), test acc: 0.40000001 (best 0.60000002)\n",
            "In epoch 90, loss: 0.67752206, val acc: 0.60000002 (best 1.00000000), test acc: 1.00000000 (best 0.60000002)\n",
            "In epoch 95, loss: 0.69908917, val acc: 0.20000000 (best 1.00000000), test acc: 0.80000001 (best 0.60000002)\n",
            "In epoch 100, loss: 0.63332647, val acc: 0.20000000 (best 1.00000000), test acc: 0.60000002 (best 0.60000002)\n",
            "In epoch 105, loss: 0.69958258, val acc: 0.80000001 (best 1.00000000), test acc: 0.80000001 (best 0.60000002)\n",
            "In epoch 110, loss: 0.69531423, val acc: 0.80000001 (best 1.00000000), test acc: 0.80000001 (best 0.60000002)\n",
            "In epoch 115, loss: 0.70756310, val acc: 0.80000001 (best 1.00000000), test acc: 0.20000000 (best 0.60000002)\n",
            "In epoch 120, loss: 0.71609128, val acc: 0.60000002 (best 1.00000000), test acc: 0.40000001 (best 0.60000002)\n",
            "In epoch 125, loss: 0.64746821, val acc: 0.40000001 (best 1.00000000), test acc: 0.80000001 (best 0.60000002)\n",
            "In epoch 130, loss: 0.71540213, val acc: 0.60000002 (best 1.00000000), test acc: 0.80000001 (best 0.60000002)\n",
            "In epoch 135, loss: 0.68462217, val acc: 0.80000001 (best 1.00000000), test acc: 0.60000002 (best 0.60000002)\n",
            "In epoch 140, loss: 0.68862998, val acc: 0.40000001 (best 1.00000000), test acc: 0.40000001 (best 0.60000002)\n",
            "In epoch 145, loss: 0.69081104, val acc: 0.80000001 (best 1.00000000), test acc: 0.20000000 (best 0.60000002)\n",
            "In epoch 150, loss: 0.68241167, val acc: 0.80000001 (best 1.00000000), test acc: 0.40000001 (best 0.60000002)\n",
            "In epoch 155, loss: 0.69543678, val acc: 0.60000002 (best 1.00000000), test acc: 0.20000000 (best 0.60000002)\n",
            "In epoch 160, loss: 0.69606322, val acc: 0.60000002 (best 1.00000000), test acc: 0.60000002 (best 0.60000002)\n",
            "In epoch 165, loss: 0.70159590, val acc: 0.60000002 (best 1.00000000), test acc: 0.80000001 (best 0.60000002)\n",
            "In epoch 170, loss: 0.72242850, val acc: 0.60000002 (best 1.00000000), test acc: 0.60000002 (best 0.60000002)\n",
            "In epoch 175, loss: 0.70036763, val acc: 0.20000000 (best 1.00000000), test acc: 0.60000002 (best 0.60000002)\n",
            "In epoch 180, loss: 0.69862598, val acc: 0.00000000 (best 1.00000000), test acc: 0.40000001 (best 0.60000002)\n",
            "In epoch 185, loss: 0.69723070, val acc: 0.80000001 (best 1.00000000), test acc: 0.40000001 (best 0.60000002)\n",
            "In epoch 190, loss: 0.68108255, val acc: 0.80000001 (best 1.00000000), test acc: 0.40000001 (best 0.60000002)\n",
            "In epoch 195, loss: 0.71051228, val acc: 0.20000000 (best 1.00000000), test acc: 0.40000001 (best 0.60000002)\n",
            "In epoch 200, loss: 0.69097394, val acc: 0.20000000 (best 1.00000000), test acc: 1.00000000 (best 0.60000002)\n",
            "In epoch 205, loss: 0.70146000, val acc: 0.40000001 (best 1.00000000), test acc: 0.80000001 (best 0.60000002)\n",
            "In epoch 210, loss: 0.68680537, val acc: 0.60000002 (best 1.00000000), test acc: 0.40000001 (best 0.60000002)\n",
            "In epoch 215, loss: 0.65971291, val acc: 0.20000000 (best 1.00000000), test acc: 0.40000001 (best 0.60000002)\n",
            "In epoch 220, loss: 0.69633400, val acc: 0.60000002 (best 1.00000000), test acc: 1.00000000 (best 0.60000002)\n",
            "In epoch 225, loss: 0.65508682, val acc: 0.40000001 (best 1.00000000), test acc: 0.60000002 (best 0.60000002)\n",
            "In epoch 230, loss: 0.70239222, val acc: 0.40000001 (best 1.00000000), test acc: 0.80000001 (best 0.60000002)\n",
            "In epoch 235, loss: 0.68536073, val acc: 1.00000000 (best 1.00000000), test acc: 0.40000001 (best 0.60000002)\n",
            "In epoch 240, loss: 0.66469204, val acc: 0.80000001 (best 1.00000000), test acc: 0.40000001 (best 0.60000002)\n",
            "In epoch 245, loss: 0.69420159, val acc: 0.80000001 (best 1.00000000), test acc: 0.20000000 (best 0.60000002)\n",
            "In epoch 250, loss: 0.72432411, val acc: 0.80000001 (best 1.00000000), test acc: 0.80000001 (best 0.60000002)\n",
            "In epoch 255, loss: 0.67988479, val acc: 0.80000001 (best 1.00000000), test acc: 0.80000001 (best 0.60000002)\n",
            "In epoch 260, loss: 0.69983101, val acc: 0.60000002 (best 1.00000000), test acc: 0.60000002 (best 0.60000002)\n",
            "In epoch 265, loss: 0.68448162, val acc: 0.40000001 (best 1.00000000), test acc: 0.40000001 (best 0.60000002)\n",
            "In epoch 270, loss: 0.71072465, val acc: 0.60000002 (best 1.00000000), test acc: 0.60000002 (best 0.60000002)\n",
            "In epoch 275, loss: 0.70995879, val acc: 0.20000000 (best 1.00000000), test acc: 0.00000000 (best 0.60000002)\n",
            "In epoch 280, loss: 0.70250857, val acc: 0.20000000 (best 1.00000000), test acc: 0.00000000 (best 0.60000002)\n",
            "In epoch 285, loss: 0.70577013, val acc: 0.40000001 (best 1.00000000), test acc: 0.40000001 (best 0.60000002)\n",
            "In epoch 290, loss: 0.68151861, val acc: 0.40000001 (best 1.00000000), test acc: 0.80000001 (best 0.60000002)\n",
            "In epoch 295, loss: 0.70249695, val acc: 0.40000001 (best 1.00000000), test acc: 1.00000000 (best 0.60000002)\n"
          ]
        }
      ]
    },
    {
      "cell_type": "code",
      "source": [
        "plt.plot(graph_class_accs['train'], label='Train accuracy')\n",
        "plt.plot(graph_class_accs['val'], label='Validation accuracy')\n",
        "plt.plot(graph_class_accs['test'], label='Test accuracy')\n",
        "plt.title('Train, Validation, and Test accuracies')\n",
        "plt.xlabel('Iteration')\n",
        "plt.ylabel('Accuracy')\n",
        "plt.legend()\n",
        "plt.show()"
      ],
      "metadata": {
        "id": "YSL0mSFbYIql",
        "colab": {
          "base_uri": "https://localhost:8080/",
          "height": 295
        },
        "outputId": "f7edf692-fd50-49f0-efc8-0378d00ad679"
      },
      "id": "YSL0mSFbYIql",
      "execution_count": null,
      "outputs": [
        {
          "output_type": "display_data",
          "data": {
            "text/plain": [
              "<Figure size 432x288 with 1 Axes>"
            ],
            "image/png": "[encoded data removed]"
          },
          "metadata": {
            "needs_background": "light"
          }
        }
      ]
    },
    {
      "cell_type": "code",
      "source": [
        "all_pred_graph_class = []\n",
        "for batched_graph_test, labels_test in test_dataloader:\n",
        "    batched_graph_test = batched_graph_test.to('cpu')\n",
        "    labels_test = labels_test.to('cpu')\n",
        "    logits_test = graph_class_model(batched_graph_test, batched_graph_test.ndata['feat'].float())\n",
        "    pred_test = logits_test.argmax(1)\n",
        "    all_pred_graph_class = all_pred_graph_class + [*pred_test.cpu().numpy()]"
      ],
      "metadata": {
        "id": "mSru03SUadoD"
      },
      "id": "mSru03SUadoD",
      "execution_count": null,
      "outputs": []
    },
    {
      "cell_type": "code",
      "source": [
        "label = graph_class_dataset.labels[graph_class_dataset.test_mask]\n",
        "plt.hist(label.cpu().numpy())\n",
        "plt.title(\"Training set labels\")\n",
        "plt.show()"
      ],
      "metadata": {
        "id": "Bsn_Pbw4-ysE",
        "colab": {
          "base_uri": "https://localhost:8080/",
          "height": 281
        },
        "outputId": "8ae104c5-61e5-4b79-d4a7-31e122bd9912"
      },
      "id": "Bsn_Pbw4-ysE",
      "execution_count": null,
      "outputs": [
        {
          "output_type": "display_data",
          "data": {
            "text/plain": [
              "<Figure size 432x288 with 1 Axes>"
            ],
            "image/png": "[encoded data removed]"
          },
          "metadata": {
            "needs_background": "light"
          }
        }
      ]
    },
    {
      "cell_type": "code",
      "source": [
        "plt.hist(all_pred_graph_class)\n",
        "plt.title(\"Predicted labels\")\n",
        "plt.show()"
      ],
      "metadata": {
        "id": "LGZfRQ8ladtf",
        "colab": {
          "base_uri": "https://localhost:8080/",
          "height": 281
        },
        "outputId": "32b65074-7e53-4c05-f25d-7ca973706c96"
      },
      "id": "LGZfRQ8ladtf",
      "execution_count": null,
      "outputs": [
        {
          "output_type": "display_data",
          "data": {
            "text/plain": [
              "<Figure size 432x288 with 1 Axes>"
            ],
            "image/png": "[encoded data removed]"
          },
          "metadata": {
            "needs_background": "light"
          }
        }
      ]
    },
    {
      "cell_type": "code",
      "source": [
        "from sklearn.metrics import auc, roc_curve\n",
        "fpr, tpr, _ = roc_curve(label.cpu().numpy(), all_pred_graph_class)\n",
        "roc_auc = auc(fpr, tpr)\n",
        "plt.figure()\n",
        "plt.plot(fpr, tpr, lw=2, label='ROC curve (area = %0.2f)' % roc_auc)\n",
        "plt.plot([0, 1], [0, 1], lw=2, linestyle='-.')\n",
        "plt.xlim([0, 1])\n",
        "plt.ylim([0, 1])\n",
        "plt.xlabel('False Positive Rate')\n",
        "plt.ylabel('True Positive Rate')\n",
        "plt.title('ROC curve on the entire dataset')\n",
        "plt.legend()\n",
        "plt.show()"
      ],
      "metadata": {
        "id": "PTGIJKaZah8u",
        "colab": {
          "base_uri": "https://localhost:8080/",
          "height": 295
        },
        "outputId": "53d4a7a7-67ec-40b1-d752-795893a78a22"
      },
      "id": "PTGIJKaZah8u",
      "execution_count": null,
      "outputs": [
        {
          "output_type": "display_data",
          "data": {
            "text/plain": [
              "<Figure size 432x288 with 1 Axes>"
            ],
            "image/png": "[encoded data removed]"
          },
          "metadata": {
            "needs_background": "light"
          }
        }
      ]
    },
    {
      "cell_type": "markdown",
      "source": [
        "The Graph classification training time was noticeably longer than the Node classification on the CPU.  The ROC shows that the graph classification is predicting the same output for all given inputs. \n",
        "Improving the training model by using more of the dataset and increasing the number of epochs might resolve these issues.\n",
        "\n",
        "Dynamic graphs are also another possible approach where the structure of the graph can keep changing over time, and that includes both nodes and edges, which can be added, modified, deleted, and represented as an ordered list or a stream of time stamped events that change the structure of the graph.\n"
      ],
      "metadata": {
        "id": "xlJpEQwO-kXf"
      },
      "id": "xlJpEQwO-kXf"
    }
  ],
  "metadata": {
    "colab": {
      "name": "Task_4.ipynb",
      "provenance": [],
      "collapsed_sections": []
    },
    "language_info": {
      "name": "python"
    },
    "kernelspec": {
      "name": "python3",
      "display_name": "Python 3"
    }
  },
  "nbformat": 4,
  "nbformat_minor": 5
}