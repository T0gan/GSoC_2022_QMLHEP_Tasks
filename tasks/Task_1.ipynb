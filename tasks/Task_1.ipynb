{
  "nbformat": 4,
  "nbformat_minor": 0,
  "metadata": {
    "colab": {
      "name": "Task_1.ipynb",
      "provenance": []
    },
    "kernelspec": {
      "name": "python3",
      "display_name": "Python 3"
    },
    "language_info": {
      "name": "python"
    }
  },
  "cells": [
    {
      "cell_type": "code",
      "execution_count": 1,
      "metadata": {
        "colab": {
          "base_uri": "https://localhost:8080/"
        },
        "id": "xxWW3Tzqip2u",
        "outputId": "2f29e477-9751-4dc8-8858-a1de85476828"
      },
      "outputs": [
        {
          "output_type": "stream",
          "name": "stdout",
          "text": [
            "installing cirq...\n",
            "\u001b[K     |████████████████████████████████| 541 kB 6.5 MB/s \n",
            "\u001b[K     |████████████████████████████████| 48 kB 4.9 MB/s \n",
            "\u001b[K     |████████████████████████████████| 1.8 MB 31.6 MB/s \n",
            "\u001b[K     |████████████████████████████████| 593 kB 56.5 MB/s \n",
            "\u001b[K     |████████████████████████████████| 56 kB 3.9 MB/s \n",
            "\u001b[K     |████████████████████████████████| 10.1 MB 48.7 MB/s \n",
            "\u001b[K     |████████████████████████████████| 145 kB 53.6 MB/s \n",
            "\u001b[K     |████████████████████████████████| 65 kB 3.1 MB/s \n",
            "\u001b[K     |████████████████████████████████| 53 kB 1.8 MB/s \n",
            "\u001b[K     |████████████████████████████████| 52 kB 1.3 MB/s \n",
            "\u001b[K     |████████████████████████████████| 97 kB 3.5 MB/s \n",
            "\u001b[K     |████████████████████████████████| 49 kB 4.4 MB/s \n",
            "\u001b[K     |████████████████████████████████| 220 kB 7.0 MB/s \n",
            "\u001b[K     |████████████████████████████████| 43 kB 942 kB/s \n",
            "\u001b[K     |████████████████████████████████| 38.1 MB 1.2 MB/s \n",
            "\u001b[K     |████████████████████████████████| 229 kB 73.8 MB/s \n",
            "\u001b[K     |████████████████████████████████| 243 kB 45.6 MB/s \n",
            "\u001b[K     |████████████████████████████████| 1.6 MB 17.3 MB/s \n",
            "\u001b[K     |████████████████████████████████| 109 kB 57.3 MB/s \n",
            "\u001b[K     |████████████████████████████████| 546 kB 24.6 MB/s \n",
            "\u001b[?25h  Building wheel for lark (setup.py) ... \u001b[?25l\u001b[?25hdone\n",
            "  Building wheel for retrying (setup.py) ... \u001b[?25l\u001b[?25hdone\n",
            "  Building wheel for rpcq (setup.py) ... \u001b[?25l\u001b[?25hdone\n",
            "\u001b[31mERROR: pip's dependency resolver does not currently take into account all the packages that are installed. This behaviour is the source of the following dependency conflicts.\n",
            "tensorflow 2.8.0 requires tf-estimator-nightly==2.8.0.dev2021122109, which is not installed.\n",
            "markdown 3.3.6 requires importlib-metadata>=4.4; python_version < \"3.10\", but you have importlib-metadata 3.10.1 which is incompatible.\n",
            "google-colab 1.0.0 requires six~=1.15.0, but you have six 1.16.0 which is incompatible.\n",
            "datascience 0.10.6 requires folium==0.2.1, but you have folium 0.8.3 which is incompatible.\n",
            "albumentations 0.1.12 requires imgaug<0.2.7,>=0.2.5, but you have imgaug 0.2.9 which is incompatible.\u001b[0m\n",
            "installed cirq.\n"
          ]
        },
        {
          "output_type": "stream",
          "name": "stderr",
          "text": [
            "/usr/local/lib/python3.7/dist-packages/ipykernel_launcher.py:10: DeprecationWarning: cirq.ops.moment was used but is deprecated.\n",
            " it will be removed in cirq v0.16.\n",
            " Use cirq.circuits.moment instead.\n",
            "\n",
            "  # Remove the CWD from sys.path while we load stuff.\n"
          ]
        }
      ],
      "source": [
        "try:\n",
        "    import cirq\n",
        "except ImportError:\n",
        "    print(\"installing cirq...\")\n",
        "    !pip install --quiet cirq\n",
        "    print(\"installed cirq.\")\n",
        "    import cirq\n",
        "import matplotlib.pyplot as plt\n",
        "import numpy as np\n",
        "from cirq.ops import *"
      ]
    },
    {
      "cell_type": "markdown",
      "source": [
        "# Task I: Quantum Computing Part"
      ],
      "metadata": {
        "id": "eL-N0CfxEzDN"
      }
    },
    {
      "cell_type": "markdown",
      "source": [
        "## 1) Implement a simple quantum operation with Cirq"
      ],
      "metadata": {
        "id": "UCFeAeKcE3Fk"
      }
    },
    {
      "cell_type": "code",
      "source": [
        "# 1)\n",
        "# a) With 5 qubits\n",
        "qubits = cirq.LineQubit.range(5)\n",
        "circuit = cirq.Circuit()\n",
        "\n",
        "# b) Apply Hadamard operation on every qubit\n",
        "for i in range(5):\n",
        "    circuit.append(H(qubits[i]))\n",
        "\n",
        "# c) Apply CNOT operation on (0, 1), (1,2), (2,3), (3,4)\n",
        "for i in range(4):\n",
        "    circuit.append(CNOT(qubits[i], qubits[i+1]))\n",
        "\n",
        "# d) SWAP (0, 4)\n",
        "circuit.append(SWAP(qubits[0], qubits[4]))\n",
        "\n",
        "# e) Rotate X with pi/2 on any qubit\n",
        "circuit.append(rx(np.pi/2).on(qubits[0]))\n",
        "\n",
        "# f) Plot the circuit\n",
        "print(circuit)"
      ],
      "metadata": {
        "colab": {
          "base_uri": "https://localhost:8080/"
        },
        "id": "wZsKbcvNizuu",
        "outputId": "996b22e0-6568-4edb-e455-55d360be4808"
      },
      "execution_count": 26,
      "outputs": [
        {
          "output_type": "stream",
          "name": "stdout",
          "text": [
            "0: ───H───@───────────────×───Rx(0.5π)───\n",
            "          │               │\n",
            "1: ───H───X───@───────────┼──────────────\n",
            "              │           │\n",
            "2: ───H───────X───@───────┼──────────────\n",
            "                  │       │\n",
            "3: ───H───────────X───@───┼──────────────\n",
            "                      │   │\n",
            "4: ───H───────────────X───×──────────────\n"
          ]
        }
      ]
    },
    {
      "cell_type": "markdown",
      "source": [
        "## 2). Create a circuit that is a series of small cirq.Rx rotations and plot the probability of measuring the state in the |0⟩ state"
      ],
      "metadata": {
        "id": "jc3aJMwKE81W"
      }
    },
    {
      "cell_type": "code",
      "source": [
        "# 2) \n",
        "qubit = cirq.NamedQubit(\"myqubit\")\n",
        "circuit_2 = cirq.Circuit()\n",
        "\n",
        "for i in range(6):\n",
        "    rand = 0.1*np.random.randint(0, 20)\n",
        "    circuit_2.append(rx(rand*np.pi).on(qubit))\n",
        "\n",
        "# measure the qubit\n",
        "circuit_2.append(cirq.measure(qubit, key='r'))\n",
        "\n",
        "# plot circuit and resutl\n",
        "print(circuit_2)\n",
        "\n",
        "# run simulation\n",
        "result = cirq.Simulator().run(circuit_2, repetitions=100)\n",
        "_ = cirq.vis.plot_state_histogram(result, plt.subplot())\n",
        "print(\"\\nThe probability of measuring state |0⟩ is\", result.histogram(key=\"r\")[0]/100, \"\\n\")"
      ],
      "metadata": {
        "colab": {
          "base_uri": "https://localhost:8080/",
          "height": 363
        },
        "id": "uH_Bp_CQjCl2",
        "outputId": "c7a88360-6f63-40f1-cc19-17ebf3180858"
      },
      "execution_count": 27,
      "outputs": [
        {
          "output_type": "stream",
          "name": "stdout",
          "text": [
            "myqubit: ───Rx(0.4π)───Rx(1.6π)───Rx(0.5π)───Rx(0)───Rx(0.6π)───Rx(0.7π)───M('r')───\n",
            "\n",
            "The probability of measuring state |0⟩ is 0.85 \n",
            "\n"
          ]
        },
        {
          "output_type": "display_data",
          "data": {
            "text/plain": [
              "<Figure size 432x288 with 1 Axes>"
            ],
            "image/png": "[encoded data removed]"
          },
          "metadata": {
            "needs_background": "light"
          }
        }
      ]
    },
    {
      "cell_type": "code",
      "source": [
        ""
      ],
      "metadata": {
        "id": "QDzMyQhQjCo7"
      },
      "execution_count": 11,
      "outputs": []
    }
  ]
}