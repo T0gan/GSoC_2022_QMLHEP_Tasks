{
 "cells": [
  {
   "cell_type": "markdown",
   "id": "a46c0ac0-4213-4696-86fd-ae1ddc075cc8",
   "metadata": {},
   "source": [
    "# Task I: Quantum Computing Part\n",
    "#### 1) implement a simple quantum operation with Cirq\n",
    "a) With 5 qubits <br />\n",
    "b) Apply Hadamard operation on every qubit <br />\n",
    "c) Apply CNOT operation on (0, 1), (1,2), (2,3), (3,4) <br />\n",
    "d) SWAP (0, 4) <br />\n",
    "e) Rotate X with pi/2 on any qubit <br />\n",
    "f) Plot the circuit <br />\n",
    "\n",
    "#### 2) Create a circuit that is a series of small cirq.Rx rotations and plot the probability of measuring the state in the |0⟩ state. \n",
    "\n",
    "# Task II: Quantum Generative Adversarial Network (QGAN) Part\n",
    "\n",
    "You will explore how best to apply a quantum generative adversarial network (QGAN) to solve a High Energy Data analysis issue, more specifically, separating the signal events from the background events. You should use the Google Cirq and Tensorflow Quantum (TFQ) libraries for this task.\n",
    "A set of input samples (simulated with Delphes) is provided in NumPy NPZ format [Download Input]. In the input file, there are only 100 samples for training and 100 samples for testing so it won’t take much computing resources to accomplish this\n",
    "task. The signal events are labeled with 1 while the background events are labeled with 0.\n",
    "Be sure to show that you understand how to fine tune your machine learning model to improve the performance. The performance can be evaluated with classification accuracy or Area Under ROC Curve (AUC).\n",
    "\n",
    "# Task III: The electron-photon dataset (which can be found here) contains 100 samples for training and another 100 for testing, laid out as follows:\n",
    "\n",
    "● data[\"x_train\"]: Training dataset of 100 32x32 images containing the particles' energy (100, 32, 32) <br />\n",
    "● data[\"y_train\"]:\" Training labels, 0 = \"photon\", 1 = \"electron\" (100,) <br />\n",
    "● data[\"x_test\"]: Test dataset of 100 32x32 images containing the particles' energy (100, 32, 32) <br />\n",
    "● data[\"y_test\"]:\" Test labels, 0 = \"photon\", 1 = \"electron\" (100,) <br />\n",
    "\n",
    "The dataset labels are labelled 0 for photons and 1 for electrons.\n",
    "Your task is to\n",
    "\n",
    "#### Part a) implement a quantum variational autoencoder in TF Quantum and show its performance\n",
    "#### Part b) implement a quantum neural network of any architecture (except convolutional) in Tensorflow Quantum\n",
    "#### Part c) implement a QCNN model in TF Quantum\n",
    "\n",
    "Both types of QNNs should use this dataset’s input and perform binary classification. Please feel free to experiment with different ways of encoding the classical data inputs into the qubits.\n",
    "Specifically, show that the models fits the dataset and that your training loss decreases over time. (Given the small dataset size, we will not be focusing on the accuracy of your model).\n",
    "\n",
    "# Task IV: Classical Graph Neural Network (GNN) Part\n",
    "\n",
    "For Task IV, you will use ParticleNet’s data for Quark/Gluon jet classification available here with its corresponding description. <br />\n",
    "● Choose 2 Graph-based architectures of your choice to classify jets as being quarks or gluons. Provide a description on what considerations you have taken to project this point-cloud dataset to a set of interconnected nodes and edges. <br />\n",
    "● Discuss the resulting performance of the 2 chosen architectures. <br />\n",
    "\n",
    "# Task V: Open Task Part\n",
    "\n",
    "Please comment on quantum computing or quantum machine learning. You can also comment on one quantum algorithm or one quantum software you are familiar with. You can also suggest methods you think are good and you would like to work. Please use your own understanding. Comments copied from the internet will not be considered."
   ]
  }
 ],
 "metadata": {
  "kernelspec": {
   "display_name": "Python 3 (ipykernel)",
   "language": "python",
   "name": "python3"
  },
  "language_info": {
   "codemirror_mode": {
    "name": "ipython",
    "version": 3
   },
   "file_extension": ".py",
   "mimetype": "text/x-python",
   "name": "python",
   "nbconvert_exporter": "python",
   "pygments_lexer": "ipython3",
   "version": "3.9.7"
  }
 },
 "nbformat": 4,
 "nbformat_minor": 5
}
